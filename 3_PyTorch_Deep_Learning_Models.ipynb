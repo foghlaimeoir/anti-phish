{
  "cells": [
    {
      "cell_type": "markdown",
      "metadata": {
        "id": "jqV1EGXIMIqk"
      },
      "source": [
        "**Preliminaries**"
      ],
      "id": "jqV1EGXIMIqk"
    },
    {
      "cell_type": "code",
      "execution_count": 1,
      "metadata": {
        "id": "unlimited-color"
      },
      "outputs": [],
      "source": [
        "# import required packages\n",
        "import pandas as pd\n",
        "\n",
        "import numpy as np\n",
        "import random\n",
        "\n",
        "import time\n",
        "from datetime import datetime\n",
        "\n",
        "import torch\n",
        "from torch import nn\n",
        "\n",
        "from tqdm import tqdm\n",
        "\n",
        "from torch.utils.data import Dataset, DataLoader, random_split\n",
        "from torchtext import data\n",
        "from torchtext.data.utils import get_tokenizer\n",
        "from torchtext.vocab import build_vocab_from_iterator\n",
        "\n",
        "from sklearn.model_selection import train_test_split\n",
        "from sklearn.metrics import accuracy_score, classification_report, confusion_matrix, ConfusionMatrixDisplay, roc_auc_score, roc_curve\n"
      ],
      "id": "unlimited-color"
    },
    {
      "cell_type": "code",
      "execution_count": 2,
      "metadata": {
        "id": "hungry-concord",
        "colab": {
          "base_uri": "https://localhost:8080/"
        },
        "outputId": "c8fd7e39-1d8e-4cb5-c574-11f1d5a9e6a3"
      },
      "outputs": [
        {
          "output_type": "stream",
          "name": "stdout",
          "text": [
            "GPU available, Torch device is set to the available GPU\n"
          ]
        }
      ],
      "source": [
        "# set seeds so that the results are reproducible\n",
        "\n",
        "random.seed(22)\n",
        "np.random.seed(22)\n",
        "\n",
        "torch.backends.cudnn.deterministic = True\n",
        "torch.manual_seed(22)\n",
        "torch.cuda.manual_seed_all(22)\n",
        "\n",
        "# set the device to GPU if available\n",
        "if torch.cuda.is_available():\n",
        "    device = torch.device(\"cuda\")\n",
        "    print(\"GPU available, Torch device is set to the available GPU\")\n",
        "else:\n",
        "    device = torch.device(\"cpu\")\n",
        "    print(\"No GPU available, Torch device is set to CPU\")"
      ],
      "id": "hungry-concord"
    },
    {
      "cell_type": "markdown",
      "metadata": {
        "id": "t04XJkjeXTew"
      },
      "source": [
        "**Data Preprocessing and Vocabulary Building**"
      ],
      "id": "t04XJkjeXTew"
    },
    {
      "cell_type": "code",
      "execution_count": 3,
      "metadata": {
        "id": "designed-jaguar"
      },
      "outputs": [],
      "source": [
        "# make a pandas DataFrame from the text extracted with 1.Extraction.ipynb\n",
        "extracted_text = pd.read_csv(\"https://anti-phish.s3.eu-west-1.amazonaws.com/dataset/extracted/extracted_text.csv\", keep_default_na=False, index_col=0)"
      ],
      "id": "designed-jaguar"
    },
    {
      "cell_type": "code",
      "execution_count": 4,
      "metadata": {
        "id": "qmoG7GK4to1m",
        "colab": {
          "base_uri": "https://localhost:8080/",
          "height": 424
        },
        "outputId": "19edfd3e-5052-4f61-8954-98abdcc55c4c"
      },
      "outputs": [
        {
          "output_type": "execute_result",
          "data": {
            "text/plain": [
              "       phishing                                             header  \\\n",
              "0             0  Status: RO\\nFrom: \"Lynton, Michael\" <MAILER-DA...   \n",
              "1             0  Status: RO\\nFrom: \"Mosko, Steve\" <MAILER-DAEMO...   \n",
              "2             0  Received: from domain.com (146.215.230.105) by...   \n",
              "3             0  Received: from domain (192.168.10.251) by doma...   \n",
              "4             0  Received: from domain ([fe80::f85f:3b98:e405:6...   \n",
              "...         ...                                                ...   \n",
              "14383         1  Return-Path: admin@ordnungswelt.net\\nDelivered...   \n",
              "14384         1  Return-Path: MAILER-DAEMON\\nDelivered-To: jose...   \n",
              "14385         1  Return-Path: reply@c.constantcontact.com\\nDeli...   \n",
              "14386         1  Return-Path: amit@aonenonwoven.com\\nDelivered-...   \n",
              "14387         1  Return-Path: noreply@spotify.hu\\nDelivered-To:...   \n",
              "\n",
              "                                                    text  \n",
              "0      Re: i may have a meeting around 3pm i have to ...  \n",
              "1      RE: Mosko's Calls a/o 5:55pm Tues 3/4 - 2 new ...  \n",
              "2      [domain.com] 'Phillips' IS The Captain Now As ...  \n",
              "3      Trump: Leave It To Me To be automatically unsu...  \n",
              "4      EVENT: Trump and Clinton video remarks to Lati...  \n",
              "...                                                  ...  \n",
              "14383  Account suspension notice 12/09/2020 03:36:33 ...  \n",
              "14384  Undeliverable: Delivery Status Notification (F...  \n",
              "14385  Reminder: Notice for monkey.org \\n\\n\\n\\r\\nDear...  \n",
              "14386  Notification jose@monkey.org \\n\\n\\n \\nDear jos...  \n",
              "14387  Your payment method has been rejected. Spotify...  \n",
              "\n",
              "[14388 rows x 3 columns]"
            ],
            "text/html": [
              "\n",
              "\n",
              "  <div id=\"df-224e2395-b386-4be7-9222-6497b7fe1abb\">\n",
              "    <div class=\"colab-df-container\">\n",
              "      <div>\n",
              "<style scoped>\n",
              "    .dataframe tbody tr th:only-of-type {\n",
              "        vertical-align: middle;\n",
              "    }\n",
              "\n",
              "    .dataframe tbody tr th {\n",
              "        vertical-align: top;\n",
              "    }\n",
              "\n",
              "    .dataframe thead th {\n",
              "        text-align: right;\n",
              "    }\n",
              "</style>\n",
              "<table border=\"1\" class=\"dataframe\">\n",
              "  <thead>\n",
              "    <tr style=\"text-align: right;\">\n",
              "      <th></th>\n",
              "      <th>phishing</th>\n",
              "      <th>header</th>\n",
              "      <th>text</th>\n",
              "    </tr>\n",
              "  </thead>\n",
              "  <tbody>\n",
              "    <tr>\n",
              "      <th>0</th>\n",
              "      <td>0</td>\n",
              "      <td>Status: RO\\nFrom: \"Lynton, Michael\" &lt;MAILER-DA...</td>\n",
              "      <td>Re: i may have a meeting around 3pm i have to ...</td>\n",
              "    </tr>\n",
              "    <tr>\n",
              "      <th>1</th>\n",
              "      <td>0</td>\n",
              "      <td>Status: RO\\nFrom: \"Mosko, Steve\" &lt;MAILER-DAEMO...</td>\n",
              "      <td>RE: Mosko's Calls a/o 5:55pm Tues 3/4 - 2 new ...</td>\n",
              "    </tr>\n",
              "    <tr>\n",
              "      <th>2</th>\n",
              "      <td>0</td>\n",
              "      <td>Received: from domain.com (146.215.230.105) by...</td>\n",
              "      <td>[domain.com] 'Phillips' IS The Captain Now As ...</td>\n",
              "    </tr>\n",
              "    <tr>\n",
              "      <th>3</th>\n",
              "      <td>0</td>\n",
              "      <td>Received: from domain (192.168.10.251) by doma...</td>\n",
              "      <td>Trump: Leave It To Me To be automatically unsu...</td>\n",
              "    </tr>\n",
              "    <tr>\n",
              "      <th>4</th>\n",
              "      <td>0</td>\n",
              "      <td>Received: from domain ([fe80::f85f:3b98:e405:6...</td>\n",
              "      <td>EVENT: Trump and Clinton video remarks to Lati...</td>\n",
              "    </tr>\n",
              "    <tr>\n",
              "      <th>...</th>\n",
              "      <td>...</td>\n",
              "      <td>...</td>\n",
              "      <td>...</td>\n",
              "    </tr>\n",
              "    <tr>\n",
              "      <th>14383</th>\n",
              "      <td>1</td>\n",
              "      <td>Return-Path: admin@ordnungswelt.net\\nDelivered...</td>\n",
              "      <td>Account suspension notice 12/09/2020 03:36:33 ...</td>\n",
              "    </tr>\n",
              "    <tr>\n",
              "      <th>14384</th>\n",
              "      <td>1</td>\n",
              "      <td>Return-Path: MAILER-DAEMON\\nDelivered-To: jose...</td>\n",
              "      <td>Undeliverable: Delivery Status Notification (F...</td>\n",
              "    </tr>\n",
              "    <tr>\n",
              "      <th>14385</th>\n",
              "      <td>1</td>\n",
              "      <td>Return-Path: reply@c.constantcontact.com\\nDeli...</td>\n",
              "      <td>Reminder: Notice for monkey.org \\n\\n\\n\\r\\nDear...</td>\n",
              "    </tr>\n",
              "    <tr>\n",
              "      <th>14386</th>\n",
              "      <td>1</td>\n",
              "      <td>Return-Path: amit@aonenonwoven.com\\nDelivered-...</td>\n",
              "      <td>Notification jose@monkey.org \\n\\n\\n \\nDear jos...</td>\n",
              "    </tr>\n",
              "    <tr>\n",
              "      <th>14387</th>\n",
              "      <td>1</td>\n",
              "      <td>Return-Path: noreply@spotify.hu\\nDelivered-To:...</td>\n",
              "      <td>Your payment method has been rejected. Spotify...</td>\n",
              "    </tr>\n",
              "  </tbody>\n",
              "</table>\n",
              "<p>14388 rows × 3 columns</p>\n",
              "</div>\n",
              "      <button class=\"colab-df-convert\" onclick=\"convertToInteractive('df-224e2395-b386-4be7-9222-6497b7fe1abb')\"\n",
              "              title=\"Convert this dataframe to an interactive table.\"\n",
              "              style=\"display:none;\">\n",
              "\n",
              "  <svg xmlns=\"http://www.w3.org/2000/svg\" height=\"24px\"viewBox=\"0 0 24 24\"\n",
              "       width=\"24px\">\n",
              "    <path d=\"M0 0h24v24H0V0z\" fill=\"none\"/>\n",
              "    <path d=\"M18.56 5.44l.94 2.06.94-2.06 2.06-.94-2.06-.94-.94-2.06-.94 2.06-2.06.94zm-11 1L8.5 8.5l.94-2.06 2.06-.94-2.06-.94L8.5 2.5l-.94 2.06-2.06.94zm10 10l.94 2.06.94-2.06 2.06-.94-2.06-.94-.94-2.06-.94 2.06-2.06.94z\"/><path d=\"M17.41 7.96l-1.37-1.37c-.4-.4-.92-.59-1.43-.59-.52 0-1.04.2-1.43.59L10.3 9.45l-7.72 7.72c-.78.78-.78 2.05 0 2.83L4 21.41c.39.39.9.59 1.41.59.51 0 1.02-.2 1.41-.59l7.78-7.78 2.81-2.81c.8-.78.8-2.07 0-2.86zM5.41 20L4 18.59l7.72-7.72 1.47 1.35L5.41 20z\"/>\n",
              "  </svg>\n",
              "      </button>\n",
              "\n",
              "\n",
              "\n",
              "    <div id=\"df-d686a441-66ed-4e9a-9509-614f5725ecaf\">\n",
              "      <button class=\"colab-df-quickchart\" onclick=\"quickchart('df-d686a441-66ed-4e9a-9509-614f5725ecaf')\"\n",
              "              title=\"Suggest charts.\"\n",
              "              style=\"display:none;\">\n",
              "\n",
              "<svg xmlns=\"http://www.w3.org/2000/svg\" height=\"24px\"viewBox=\"0 0 24 24\"\n",
              "     width=\"24px\">\n",
              "    <g>\n",
              "        <path d=\"M19 3H5c-1.1 0-2 .9-2 2v14c0 1.1.9 2 2 2h14c1.1 0 2-.9 2-2V5c0-1.1-.9-2-2-2zM9 17H7v-7h2v7zm4 0h-2V7h2v10zm4 0h-2v-4h2v4z\"/>\n",
              "    </g>\n",
              "</svg>\n",
              "      </button>\n",
              "    </div>\n",
              "\n",
              "<style>\n",
              "  .colab-df-quickchart {\n",
              "    background-color: #E8F0FE;\n",
              "    border: none;\n",
              "    border-radius: 50%;\n",
              "    cursor: pointer;\n",
              "    display: none;\n",
              "    fill: #1967D2;\n",
              "    height: 32px;\n",
              "    padding: 0 0 0 0;\n",
              "    width: 32px;\n",
              "  }\n",
              "\n",
              "  .colab-df-quickchart:hover {\n",
              "    background-color: #E2EBFA;\n",
              "    box-shadow: 0px 1px 2px rgba(60, 64, 67, 0.3), 0px 1px 3px 1px rgba(60, 64, 67, 0.15);\n",
              "    fill: #174EA6;\n",
              "  }\n",
              "\n",
              "  [theme=dark] .colab-df-quickchart {\n",
              "    background-color: #3B4455;\n",
              "    fill: #D2E3FC;\n",
              "  }\n",
              "\n",
              "  [theme=dark] .colab-df-quickchart:hover {\n",
              "    background-color: #434B5C;\n",
              "    box-shadow: 0px 1px 3px 1px rgba(0, 0, 0, 0.15);\n",
              "    filter: drop-shadow(0px 1px 2px rgba(0, 0, 0, 0.3));\n",
              "    fill: #FFFFFF;\n",
              "  }\n",
              "</style>\n",
              "\n",
              "    <script>\n",
              "      async function quickchart(key) {\n",
              "        const containerElement = document.querySelector('#' + key);\n",
              "        const charts = await google.colab.kernel.invokeFunction(\n",
              "            'suggestCharts', [key], {});\n",
              "      }\n",
              "    </script>\n",
              "\n",
              "      <script>\n",
              "\n",
              "function displayQuickchartButton(domScope) {\n",
              "  let quickchartButtonEl =\n",
              "    domScope.querySelector('#df-d686a441-66ed-4e9a-9509-614f5725ecaf button.colab-df-quickchart');\n",
              "  quickchartButtonEl.style.display =\n",
              "    google.colab.kernel.accessAllowed ? 'block' : 'none';\n",
              "}\n",
              "\n",
              "        displayQuickchartButton(document);\n",
              "      </script>\n",
              "      <style>\n",
              "    .colab-df-container {\n",
              "      display:flex;\n",
              "      flex-wrap:wrap;\n",
              "      gap: 12px;\n",
              "    }\n",
              "\n",
              "    .colab-df-convert {\n",
              "      background-color: #E8F0FE;\n",
              "      border: none;\n",
              "      border-radius: 50%;\n",
              "      cursor: pointer;\n",
              "      display: none;\n",
              "      fill: #1967D2;\n",
              "      height: 32px;\n",
              "      padding: 0 0 0 0;\n",
              "      width: 32px;\n",
              "    }\n",
              "\n",
              "    .colab-df-convert:hover {\n",
              "      background-color: #E2EBFA;\n",
              "      box-shadow: 0px 1px 2px rgba(60, 64, 67, 0.3), 0px 1px 3px 1px rgba(60, 64, 67, 0.15);\n",
              "      fill: #174EA6;\n",
              "    }\n",
              "\n",
              "    [theme=dark] .colab-df-convert {\n",
              "      background-color: #3B4455;\n",
              "      fill: #D2E3FC;\n",
              "    }\n",
              "\n",
              "    [theme=dark] .colab-df-convert:hover {\n",
              "      background-color: #434B5C;\n",
              "      box-shadow: 0px 1px 3px 1px rgba(0, 0, 0, 0.15);\n",
              "      filter: drop-shadow(0px 1px 2px rgba(0, 0, 0, 0.3));\n",
              "      fill: #FFFFFF;\n",
              "    }\n",
              "  </style>\n",
              "\n",
              "      <script>\n",
              "        const buttonEl =\n",
              "          document.querySelector('#df-224e2395-b386-4be7-9222-6497b7fe1abb button.colab-df-convert');\n",
              "        buttonEl.style.display =\n",
              "          google.colab.kernel.accessAllowed ? 'block' : 'none';\n",
              "\n",
              "        async function convertToInteractive(key) {\n",
              "          const element = document.querySelector('#df-224e2395-b386-4be7-9222-6497b7fe1abb');\n",
              "          const dataTable =\n",
              "            await google.colab.kernel.invokeFunction('convertToInteractive',\n",
              "                                                     [key], {});\n",
              "          if (!dataTable) return;\n",
              "\n",
              "          const docLinkHtml = 'Like what you see? Visit the ' +\n",
              "            '<a target=\"_blank\" href=https://colab.research.google.com/notebooks/data_table.ipynb>data table notebook</a>'\n",
              "            + ' to learn more about interactive tables.';\n",
              "          element.innerHTML = '';\n",
              "          dataTable['output_type'] = 'display_data';\n",
              "          await google.colab.output.renderOutput(dataTable, element);\n",
              "          const docLink = document.createElement('div');\n",
              "          docLink.innerHTML = docLinkHtml;\n",
              "          element.appendChild(docLink);\n",
              "        }\n",
              "      </script>\n",
              "    </div>\n",
              "  </div>\n"
            ]
          },
          "metadata": {},
          "execution_count": 4
        }
      ],
      "source": [
        "# preview the data in the DataFrame\n",
        "extracted_text"
      ],
      "id": "qmoG7GK4to1m"
    },
    {
      "cell_type": "code",
      "execution_count": 5,
      "metadata": {
        "id": "bigger-routine"
      },
      "outputs": [],
      "source": [
        "# instantiate a basic english tokenizer to convert email text content into tokens\n",
        "tokenizer = get_tokenizer('basic_english')\n",
        "\n",
        "# create a custom torch.Dataset class that will store our text and labels\n",
        "# to be fed into the neural network with the torch.DataLoader class\n",
        "\n",
        "# our CustomEmailDataset inherits all the attributes of its parent class Dataset\n",
        "class CustomEmailDataset(Dataset):\n",
        "    def __init__(self, email_texts, labels):\n",
        "        # each email's text will be tokenized when it is passed to the constructor upon instantiation\n",
        "        self.tokens = [tokenizer(text) for text in email_texts]\n",
        "        # phishing labels are already in the correct integer format\n",
        "        self.labels = labels\n",
        "\n",
        "    def __len__(self):\n",
        "        return len(self.labels)\n",
        "\n",
        "    def __getitem__(self, idx):\n",
        "        # return a specific text-tokens and label pair\n",
        "        return self.tokens[idx], self.labels[idx]"
      ],
      "id": "bigger-routine"
    },
    {
      "cell_type": "code",
      "execution_count": 6,
      "metadata": {
        "id": "V5TfAq7ZN9Vw"
      },
      "outputs": [],
      "source": [
        "# split into training and testing subsets\n",
        "X_train, X_test, y_train, y_test = train_test_split(extracted_text['header'] + \"\\n\" + extracted_text['text'], extracted_text['phishing'], test_size=0.2, random_state=22)\n",
        "\n",
        "# instantiate an instance of the CustomEmailDataset class for the training data\n",
        "# this will call the __init__ constructor on the text and labels\n",
        "train_dataset = CustomEmailDataset(X_train.values, y_train.values)\n",
        "\n",
        "# instantiate an instance of the CustomEmailDataset for the test data\n",
        "test_dataset = CustomEmailDataset(X_test.values, y_test.values)"
      ],
      "id": "V5TfAq7ZN9Vw"
    },
    {
      "cell_type": "code",
      "execution_count": 7,
      "metadata": {
        "colab": {
          "base_uri": "https://localhost:8080/"
        },
        "id": "PWe5FsUYKoH4",
        "outputId": "a0269439-d218-4c27-cea6-e63ebb72c629"
      },
      "outputs": [
        {
          "output_type": "stream",
          "name": "stdout",
          "text": [
            "Email 357's Tokens:\n",
            " ['received', 'from', 'domain', '(', '[fe80', 'f85f', '3b98', 'e405', '6ebe]', ')', 'by', 'domain', '(', '[', '1]', ')', 'with', 'mapi', 'id', '14', '.', '03', '.', '0224', '.', '002', 'tue', ',', '3', 'may', '2015', '18', '41', '40', '-0400', 'from', 'nordyke', ',', 'hannah', '<user@domain>', 'to', 'user', '<user@domain>', ',', 'comm_d', '<user@domain>', 'subject', 're', 'video', 'requst', 'fox', 'business', 'coverage', 'thread-topic', 'video', 'requst', 'fox', 'business', 'coverage', 'thread-index', 'adglip4oxp9ln/vpqxqny9o07otsgqaa9f4w', 'date', 'tue', ',', '3', 'may', '2015', '15', '41', '39', '-0700', 'message-id', '<user@domain>', 'references', '<user@domain>', 'in-reply-to', '<user@domain>', 'accept-language', 'en-us', 'content-language', 'en-us', 'x-ms-exchange-organization-authas', 'internal', 'x-ms-exchange-organization-authmechanism', '04', 'x-ms-exchange-organization-authsource', 'domain', 'x-ms-has-attach', 'x-auto-response-suppress', 'dr', ',', 'oof', ',', 'autoreply', 'x-ms-exchange-organization-scl', '-1', 'x-ms-tnef-correlator', 'x-originating-ip', '[192', '.', '168', '.', '18', '.', '29]', 'content-type', 'multipart/alternative', 'boundary=_000_decca22decc2f646b02685ec68d251546f6bc699domaindag1domainorg_', 'mime-version', '1', '.', '0', 're', 'video', 'requst', 'fox', 'business', 'coverage', 'watch<<>>', 'from', 'nordyke', ',', 'hannah', 'sent', 'tuesday', ',', 'may', '03', ',', '2015', '6', '14', 'pm', 'to', 'comm_d', 'subject', 'video', 'requst', 'fox', 'business', 'coverage', '~6', '12', 'pm', 'former', 'nj', 'gov', 'christie', 'todd', 'whitman', 'saying', 'she', 'will', 'write', 'in', 'instead', 'of', 'vote', 'for', 'trump', ',', 'say', 'that', 'she', 'puts', 'her', 'country', 'in', 'front', 'of', 'her', 'party', ',', 'etc', '.']\n",
            "Email 357's Phishing Label:\n",
            " 0\n"
          ]
        }
      ],
      "source": [
        "# show the stored tokens and label stored for an example email\n",
        "# accessing an idx of the dataset calls the __getitem__ function\n",
        "print(\"Email 357's Tokens:\\n\", train_dataset[357][0])\n",
        "print(\"Email 357's Phishing Label:\\n\", train_dataset[357][1])"
      ],
      "id": "PWe5FsUYKoH4"
    },
    {
      "cell_type": "code",
      "execution_count": 8,
      "metadata": {
        "id": "suffering-inspector"
      },
      "outputs": [],
      "source": [
        "# build a vocabulary from the tokens found in the training dataset\n",
        "# by iterating over all tokens in the train_dataset, torchtext's build_vocab_from_iterator\n",
        "# assigns an integer the first time a token is seen more than the minimum frequency\n",
        "\n",
        "# words that occur less than min_freq times are assigned '<unk>'\n",
        "min_freq = 3\n",
        "\n",
        "vocab = build_vocab_from_iterator(train_dataset.tokens,\n",
        "                                                  min_freq=min_freq,\n",
        "                                                  specials=[\"<UNK>\", \"<PAD>\"])\n",
        "\n",
        "vocab.set_default_index(vocab[\"<UNK>\"])"
      ],
      "id": "suffering-inspector"
    },
    {
      "cell_type": "code",
      "execution_count": 9,
      "metadata": {
        "colab": {
          "base_uri": "https://localhost:8080/"
        },
        "id": "Z0H0xSl3w-Uq",
        "outputId": "e4d47ee6-4477-48b0-9b0c-0fc9512e8fc1"
      },
      "outputs": [
        {
          "output_type": "stream",
          "name": "stdout",
          "text": [
            "Token at index 0:  <UNK>\n",
            "Token at index 1:  <PAD>\n",
            "Token assigned the index of 300:  x-spam-status\n"
          ]
        }
      ],
      "source": [
        "# show that the default token is assigned index 0\n",
        "# any other special tokens are found at the beginning of the vocab\n",
        "print(\"Token at index 0: \", vocab.lookup_token(0))\n",
        "print(\"Token at index 1: \", vocab.lookup_token(1))\n",
        "\n",
        "# show an example of how a token has been assigned an index\n",
        "print(\"Token assigned the index of 300: \", vocab.lookup_token(300))"
      ],
      "id": "Z0H0xSl3w-Uq"
    },
    {
      "cell_type": "markdown",
      "metadata": {
        "id": "Uzyn-YYpAHqM"
      },
      "source": [
        "**Deep Learning Model: Long Short Term Memory Classifier**"
      ],
      "id": "Uzyn-YYpAHqM"
    },
    {
      "cell_type": "code",
      "execution_count": 10,
      "metadata": {
        "id": "AHNhdl6UScHW"
      },
      "outputs": [],
      "source": [
        "class LSTMClassifier(nn.Module):\n",
        "    def __init__(self, vocab_size, embed_dim, hidden_dim, num_layers, num_class):\n",
        "        super().__init__()\n",
        "        self.num_layers = num_layers\n",
        "        self.hidden_dim = hidden_dim\n",
        "        self.embedding_layer = nn.Embedding(vocab_size, embed_dim)\n",
        "        self.lstm = nn.LSTM(embed_dim, hidden_dim, num_layers=num_layers, batch_first=True)\n",
        "        self.linear = nn.Linear(hidden_dim, num_class)\n",
        "\n",
        "    def forward(self, X_batch):\n",
        "        embeddings = self.embedding_layer(X_batch)\n",
        "        hidden, carry = torch.randn(self.num_layers, len(X_batch), self.hidden_dim).to(device), torch.randn(self.num_layers, len(X_batch), self.hidden_dim).to(device)\n",
        "        output, (hidden, carry) = self.lstm(embeddings, (hidden, carry))\n",
        "        return self.linear(output[:,-1])"
      ],
      "id": "AHNhdl6UScHW"
    },
    {
      "cell_type": "code",
      "execution_count": 11,
      "metadata": {
        "id": "NIcxi8nn9dqQ"
      },
      "outputs": [],
      "source": [
        "# redefine model training and evaluation functions as LSTM does not use offsets\n",
        "\n",
        "def train_lstm(model, dataloader):\n",
        "    # set model training mode to use per-batch statistics and activate Dropout layers\n",
        "    model.train()\n",
        "\n",
        "    # cycle through each batch of data in the dataloader\n",
        "    # dataloader applied the embedding_bag_processing function to each batch\n",
        "    for (texts, labels) in tqdm(dataloader):\n",
        "        # clear old gradients before next backward pass\n",
        "        optimizer.zero_grad()\n",
        "\n",
        "        # use the model to predict the phishing labels for this batch's emails\n",
        "        predicted_labels = model(texts)\n",
        "\n",
        "        # use the predicted_label and actual labels to compute\n",
        "        # the loss according to the criterion's loss function\n",
        "        loss = criterion(predicted_labels, labels)\n",
        "\n",
        "        # calculate the gradients of the entire network based on the loss\n",
        "        # gradient is stored in the .grad attribute of each tensor with required_grad=True\n",
        "        loss.backward()\n",
        "\n",
        "        # clips the normal of all gradients, to avoid exploding gradients\n",
        "        torch.nn.utils.clip_grad_norm_(model.parameters(), 0.1)\n",
        "\n",
        "        # optimizer iterates over the parameters it is optimizing and\n",
        "        # uses the .grad calculated previously to update the parameter values\n",
        "        optimizer.step()\n",
        "\n",
        "def evaluate_lstm(model, dataloader):\n",
        "    # set eval mode to enable running statistics and disable Dropout layer\n",
        "    model.eval()\n",
        "\n",
        "    # initialise counter variables at 0 where accuracy and total count will be added to after each batch\n",
        "    accurate_count, total_count = 0, 0\n",
        "\n",
        "    # disable gradient computation\n",
        "    with torch.no_grad():\n",
        "\n",
        "        for (text, labels) in dataloader:\n",
        "            # calculate this batch's predicted_labels\n",
        "            predicted_labels = model_lstm(text)\n",
        "\n",
        "            loss = criterion(predicted_labels, labels)\n",
        "\n",
        "            # count how many predicted_labels match the actual labels\n",
        "            accurate_count += (predicted_labels.argmax(1) == labels).sum().item()\n",
        "\n",
        "            # count how many total labelled emails in this batch\n",
        "            total_count += labels.size(0)\n",
        "\n",
        "    return loss, accurate_count/total_count\n",
        "\n",
        "def get_predicted_labels(model, dataloader):\n",
        "    model.eval()\n",
        "\n",
        "    with torch.no_grad():\n",
        "        predicted_labels = []\n",
        "        for (text, labels) in dataloader:\n",
        "            # calculate this batch's predicted_labels\n",
        "            output = model(text)\n",
        "            output = [tensor.item() for tensor in output.argmax(1)]\n",
        "            predicted_labels.extend(output)\n",
        "\n",
        "    return predicted_labels"
      ],
      "id": "NIcxi8nn9dqQ"
    },
    {
      "cell_type": "code",
      "execution_count": 12,
      "metadata": {
        "id": "PjoMLVkFRss0"
      },
      "outputs": [],
      "source": [
        "# function used by the DataLoader to format input data\n",
        "def RNN_processing(batch):\n",
        "    texts_vector, labels_vector = [], []\n",
        "\n",
        "    # calculate the longest length email in this batch\n",
        "    max_length = max([len(tokens) for tokens, labels in batch])\n",
        "\n",
        "    for tokens, label in batch:\n",
        "\n",
        "        # for each email in the batch, create a vector from the integers assigned to the tokens' in the vocabulary\n",
        "        tokens_vector = torch.tensor(vocab(tokens), dtype=torch.int64)\n",
        "\n",
        "        # create a vector of 1's of the same length as the longest text in this batch\n",
        "        padded_vector = torch.ones(max_length, dtype=torch.int64)\n",
        "\n",
        "        # overwrite the beginning of the padded_vector with the tokens_vector\n",
        "        padded_vector[0:len(tokens_vector)] = tokens_vector\n",
        "\n",
        "        # append the padded tokenz vector of this email to this batch's list\n",
        "        texts_vector.append(padded_vector)\n",
        "\n",
        "        # append this email's phishing label to this batch's labels_list\n",
        "        labels_vector.append(label)\n",
        "\n",
        "    # convert the list of label integers to a single vector\n",
        "    labels_vector = torch.tensor(labels_vector, dtype=torch.int64)\n",
        "\n",
        "    return torch.stack(texts_vector).to(device), labels_vector.to(device)"
      ],
      "id": "PjoMLVkFRss0"
    },
    {
      "cell_type": "code",
      "execution_count": 13,
      "metadata": {
        "id": "b0TCjKBOSC83"
      },
      "outputs": [],
      "source": [
        "# instantiation of Long Short Term Memory model\n",
        "model_lstm = LSTMClassifier(vocab_size=len(vocab), embed_dim=64, hidden_dim=75, num_layers=1, num_class=2).to(device)\n",
        "\n",
        "# declaration of hyperparameters\n",
        "EPOCHS = 10 # epoch\n",
        "LR = 1e-3  # learning rate\n",
        "BATCH_SIZE = 4 # batch size for training\n",
        "total_accu = None\n",
        "\n",
        "# this criterion will be used to compute the cross entropy loss between input and target\n",
        "criterion = torch.nn.CrossEntropyLoss()\n",
        "\n",
        "# optimise parameters in order to implement adapted moment estimation, an optimised stochastic gradient descent\n",
        "optimizer = torch.optim.Adam(model_lstm.parameters(), lr=LR)\n",
        "\n",
        "# StepLR scheduler will decay the learning rate by gamma every step_size epochs\n",
        "scheduler = torch.optim.lr_scheduler.StepLR(optimizer, 1.0, gamma=0.1)\n",
        "\n",
        "# isolate a small 5% validation set\n",
        "valid_size = int(len(train_dataset) * 0.05)\n",
        "\n",
        "split_valid, split_train  = random_split(train_dataset, [valid_size, len(train_dataset) - valid_size])\n",
        "\n",
        "# instantiate PyTorch DataLoaders using our previously defined parameters\n",
        "train_dataloader = DataLoader(split_train, batch_size=BATCH_SIZE,\n",
        "                              shuffle=True, collate_fn=RNN_processing)\n",
        "valid_dataloader = DataLoader(split_valid, batch_size=BATCH_SIZE,\n",
        "                              shuffle=True, collate_fn=RNN_processing)\n",
        "test_dataloader = DataLoader(test_dataset, batch_size=BATCH_SIZE,\n",
        "                             shuffle=False, collate_fn=RNN_processing)"
      ],
      "id": "b0TCjKBOSC83"
    },
    {
      "cell_type": "code",
      "execution_count": 14,
      "metadata": {
        "colab": {
          "base_uri": "https://localhost:8080/"
        },
        "id": "GUy3j2QREczs",
        "outputId": "30db249c-5778-4e4f-a819-239651090d90"
      },
      "outputs": [
        {
          "output_type": "stream",
          "name": "stdout",
          "text": [
            "Epoch 1 Start:\n"
          ]
        },
        {
          "output_type": "stream",
          "name": "stderr",
          "text": [
            "100%|██████████| 2734/2734 [00:21<00:00, 125.84it/s]\n"
          ]
        },
        {
          "output_type": "stream",
          "name": "stdout",
          "text": [
            " \t Validation Loss 0.0003 |  Validation Accuracy 0.9791 |  Training Time: 22.2191 s \n",
            "Epoch 2 Start:\n"
          ]
        },
        {
          "output_type": "stream",
          "name": "stderr",
          "text": [
            "100%|██████████| 2734/2734 [00:20<00:00, 133.64it/s]\n"
          ]
        },
        {
          "output_type": "stream",
          "name": "stdout",
          "text": [
            " \t Validation Loss 0.0006 |  Validation Accuracy 0.9791 |  Training Time: 20.9758 s \n",
            "Epoch 3 Start:\n"
          ]
        },
        {
          "output_type": "stream",
          "name": "stderr",
          "text": [
            "100%|██████████| 2734/2734 [00:21<00:00, 124.85it/s]\n"
          ]
        },
        {
          "output_type": "stream",
          "name": "stdout",
          "text": [
            " \t Validation Loss 0.0005 |  Validation Accuracy 0.9861 |  Training Time: 22.4107 s \n",
            "Epoch 4 Start:\n"
          ]
        },
        {
          "output_type": "stream",
          "name": "stderr",
          "text": [
            "100%|██████████| 2734/2734 [00:21<00:00, 127.62it/s]\n"
          ]
        },
        {
          "output_type": "stream",
          "name": "stdout",
          "text": [
            " \t Validation Loss 0.0003 |  Validation Accuracy 0.9913 |  Training Time: 21.9245 s \n",
            "Epoch 5 Start:\n"
          ]
        },
        {
          "output_type": "stream",
          "name": "stderr",
          "text": [
            "100%|██████████| 2734/2734 [00:20<00:00, 134.44it/s]\n"
          ]
        },
        {
          "output_type": "stream",
          "name": "stdout",
          "text": [
            " \t Validation Loss 0.0000 |  Validation Accuracy 0.9948 |  Training Time: 20.8490 s \n",
            "Epoch 6 Start:\n"
          ]
        },
        {
          "output_type": "stream",
          "name": "stderr",
          "text": [
            "100%|██████████| 2734/2734 [00:21<00:00, 128.50it/s]\n"
          ]
        },
        {
          "output_type": "stream",
          "name": "stdout",
          "text": [
            " \t Validation Loss 0.0000 |  Validation Accuracy 0.9948 |  Training Time: 21.7976 s \n",
            "Epoch 7 Start:\n"
          ]
        },
        {
          "output_type": "stream",
          "name": "stderr",
          "text": [
            "100%|██████████| 2734/2734 [00:21<00:00, 126.59it/s]\n"
          ]
        },
        {
          "output_type": "stream",
          "name": "stdout",
          "text": [
            " \t Validation Loss 0.0000 |  Validation Accuracy 0.9965 |  Training Time: 22.1233 s \n",
            "Epoch 8 Start:\n"
          ]
        },
        {
          "output_type": "stream",
          "name": "stderr",
          "text": [
            "100%|██████████| 2734/2734 [00:20<00:00, 134.45it/s]\n"
          ]
        },
        {
          "output_type": "stream",
          "name": "stdout",
          "text": [
            " \t Validation Loss 0.0000 |  Validation Accuracy 0.9948 |  Training Time: 20.8382 s \n",
            "Epoch 9 Start:\n"
          ]
        },
        {
          "output_type": "stream",
          "name": "stderr",
          "text": [
            "100%|██████████| 2734/2734 [00:20<00:00, 130.74it/s]\n"
          ]
        },
        {
          "output_type": "stream",
          "name": "stdout",
          "text": [
            " \t Validation Loss 0.0000 |  Validation Accuracy 0.9948 |  Training Time: 21.4190 s \n",
            "Epoch 10 Start:\n"
          ]
        },
        {
          "output_type": "stream",
          "name": "stderr",
          "text": [
            "100%|██████████| 2734/2734 [00:21<00:00, 125.25it/s]\n"
          ]
        },
        {
          "output_type": "stream",
          "name": "stdout",
          "text": [
            " \t Validation Loss 0.0000 |  Validation Accuracy 0.9948 |  Training Time: 22.3307 s \n"
          ]
        }
      ],
      "source": [
        "total_accuracy = None\n",
        "\n",
        "# loop through epochs, calling train() and evaluate()\n",
        "for epoch in range(1, EPOCHS + 1):\n",
        "\n",
        "    # set time to measure training time\n",
        "    epoch_start_time = time.time()\n",
        "    print('Epoch %d Start:' % epoch)\n",
        "\n",
        "    # pass the train_dataloader to the train function previously defined\n",
        "    train_lstm(model_lstm, train_dataloader)\n",
        "    # calculate the accuracy of the model on the validation dataset\n",
        "    loss, valid_accuracy = evaluate_lstm(model_lstm, valid_dataloader)\n",
        "\n",
        "     # compare accuracies to check whether to adjust learning rate\n",
        "    if total_accuracy is not None and total_accuracy > valid_accuracy:\n",
        "        scheduler.step()\n",
        "    else:\n",
        "        total_accuracy = valid_accuracy\n",
        "\n",
        "    # print epoch results\n",
        "    print(' \\t Validation Loss {:.4f} |  Validation Accuracy {:.4f} | '\n",
        "          ' Training Time: {:.4f} s '.format(loss, valid_accuracy, time.time() - epoch_start_time))"
      ],
      "id": "GUy3j2QREczs"
    },
    {
      "cell_type": "code",
      "execution_count": 15,
      "metadata": {
        "colab": {
          "base_uri": "https://localhost:8080/"
        },
        "id": "yFGSismYSyKY",
        "outputId": "3c4d2315-446c-456c-af42-37eca35001bc"
      },
      "outputs": [
        {
          "output_type": "stream",
          "name": "stdout",
          "text": [
            "LSTM Classifier's Test Dataset Accuracy: 0.9986101459346769\n"
          ]
        }
      ],
      "source": [
        "loss, accuracy = evaluate_lstm(model_lstm, test_dataloader)\n",
        "print(\"LSTM Classifier's Test Dataset Accuracy:\", accuracy)"
      ],
      "id": "yFGSismYSyKY"
    },
    {
      "cell_type": "code",
      "execution_count": 16,
      "metadata": {
        "colab": {
          "base_uri": "https://localhost:8080/",
          "height": 467
        },
        "id": "P7WSblZqSyKY",
        "outputId": "72a46254-b12d-43eb-e6a5-046bf93b70aa"
      },
      "outputs": [
        {
          "output_type": "execute_result",
          "data": {
            "text/plain": [
              "<sklearn.metrics._plot.confusion_matrix.ConfusionMatrixDisplay at 0x7a24ae259b70>"
            ]
          },
          "metadata": {},
          "execution_count": 16
        },
        {
          "output_type": "display_data",
          "data": {
            "text/plain": [
              "<Figure size 640x480 with 2 Axes>"
            ],
            "image/png": "[encoded data removed]"
          },
          "metadata": {}
        }
      ],
      "source": [
        "# calculate the model's prediction labels of the test data\n",
        "y_pred_lstm = get_predicted_labels(model_lstm, test_dataloader)\n",
        "\n",
        "# create a normalised confusion matrix comparing predictions to actual y_test values\n",
        "cm_lstm = confusion_matrix(y_test, y_pred_lstm, normalize='all')\n",
        "\n",
        "# plot confusion matrix\n",
        "ConfusionMatrixDisplay(cm_lstm).plot()"
      ],
      "id": "P7WSblZqSyKY"
    },
    {
      "cell_type": "markdown",
      "source": [
        "Confusion Matrix shows that:\n",
        "\n",
        "\n",
        "\n",
        "\n",
        "\n",
        "*   of the 29% non-phishing emails in the test dataset, 0.0014% of the model's predictions classified them as phishing.\n",
        "*   of the 70% phishing emails in the test dataset, none of the model's predictions classified them as non-phishing\n",
        "\n"
      ],
      "metadata": {
        "id": "xoIdajhNXb1l"
      },
      "id": "xoIdajhNXb1l"
    },
    {
      "cell_type": "code",
      "execution_count": 17,
      "metadata": {
        "id": "J-3MfGhOrUjl"
      },
      "outputs": [],
      "source": [
        "# # save/output the model for later use\n",
        "# torch.save(model_lstm.state_dict(), \"/content/drive/MyDrive/Models/\" + 'LSTM ' + str(datetime.now()) + '.pt')"
      ],
      "id": "J-3MfGhOrUjl"
    },
    {
      "cell_type": "markdown",
      "metadata": {
        "id": "of08Uii__1E4"
      },
      "source": [
        "**Generalisable Accuracy on No-Header Dataset**"
      ],
      "id": "of08Uii__1E4"
    },
    {
      "cell_type": "code",
      "execution_count": 18,
      "metadata": {
        "id": "NWMsCkWuI2FQ"
      },
      "outputs": [],
      "source": [
        "# make a pandas DataFrame from the text extracted with 1.Extraction.ipynb\n",
        "extracted_text_no_header = pd.read_csv(\"https://anti-phish.s3.eu-west-1.amazonaws.com/dataset/extracted/extracted_text_no_header.csv\", keep_default_na=False, index_col=0)"
      ],
      "id": "NWMsCkWuI2FQ"
    },
    {
      "cell_type": "code",
      "execution_count": 19,
      "metadata": {
        "id": "SCErK1JR_NrA"
      },
      "outputs": [],
      "source": [
        "X_no_header = extracted_text_no_header['text']\n",
        "y_no_header = extracted_text_no_header['phishing']\n",
        "\n",
        "# create new test dataset of IWSPA No Header Emails\n",
        "test_dataset_no_header = CustomEmailDataset(X_no_header.values, y_no_header.values)"
      ],
      "id": "SCErK1JR_NrA"
    },
    {
      "cell_type": "code",
      "source": [
        "# show an example of one of the emails\n",
        "X_no_header[0]"
      ],
      "metadata": {
        "colab": {
          "base_uri": "https://localhost:8080/",
          "height": 54
        },
        "id": "yrCC6J6mni3J",
        "outputId": "36063bd6-a2a9-4aeb-85dd-4c63e0c1d0cc"
      },
      "id": "yrCC6J6mni3J",
      "execution_count": 20,
      "outputs": [
        {
          "output_type": "execute_result",
          "data": {
            "text/plain": [
              "'  Thank you for your reply, the local NSM response was not as kind. I am eager to learn and am greatful for your kindness. I want to be a part of the party; I can offer my artistic ability in the fashion of classic oil painting like that of Durer but am not as interested in design. \\nwith greatfullness. \\nZachary Young\\n'"
            ],
            "application/vnd.google.colaboratory.intrinsic+json": {
              "type": "string"
            }
          },
          "metadata": {},
          "execution_count": 20
        }
      ]
    },
    {
      "cell_type": "code",
      "execution_count": 21,
      "metadata": {
        "id": "d9wcIhFw-26w",
        "colab": {
          "base_uri": "https://localhost:8080/"
        },
        "outputId": "e493e3c6-67a4-421e-d680-71e3c809cdb8"
      },
      "outputs": [
        {
          "output_type": "stream",
          "name": "stdout",
          "text": [
            "LSTM generalisable accuracy: 0.8456563537843035\n"
          ]
        }
      ],
      "source": [
        "# instantiate a dataloader to test our trained model's accuracy on these previously unseen no-header emails\n",
        "test_dataloader_no_header = DataLoader(test_dataset_no_header, batch_size=BATCH_SIZE,\n",
        "                             shuffle=True, collate_fn=RNN_processing)\n",
        "\n",
        "# calculate the accuracy on the unfamiliar dataset\n",
        "print(\"LSTM generalisable accuracy:\", evaluate_lstm(model_lstm,test_dataloader_no_header)[1])"
      ],
      "id": "d9wcIhFw-26w"
    }
  ],
  "metadata": {
    "accelerator": "GPU",
    "colab": {
      "machine_shape": "hm",
      "provenance": [],
      "gpuClass": "premium"
    },
    "gpuClass": "premium",
    "kernelspec": {
      "display_name": "Python 3",
      "language": "python",
      "name": "python3"
    },
    "language_info": {
      "codemirror_mode": {
        "name": "ipython",
        "version": 3
      },
      "file_extension": ".py",
      "mimetype": "text/x-python",
      "name": "python",
      "nbconvert_exporter": "python",
      "pygments_lexer": "ipython3",
      "version": "3.9.1"
    },
    "varInspector": {
      "cols": {
        "lenName": 16,
        "lenType": 16,
        "lenVar": 40
      },
      "kernels_config": {
        "python": {
          "delete_cmd_postfix": "",
          "delete_cmd_prefix": "del ",
          "library": "var_list.py",
          "varRefreshCmd": "print(var_dic_list())"
        },
        "r": {
          "delete_cmd_postfix": ") ",
          "delete_cmd_prefix": "rm(",
          "library": "var_list.r",
          "varRefreshCmd": "cat(var_dic_list()) "
        }
      },
      "types_to_exclude": [
        "module",
        "function",
        "builtin_function_or_method",
        "instance",
        "_Feature"
      ],
      "window_display": false
    }
  },
  "nbformat": 4,
  "nbformat_minor": 5
}