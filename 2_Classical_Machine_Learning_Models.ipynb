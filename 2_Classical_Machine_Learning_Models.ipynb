{
  "cells": [
    {
      "cell_type": "markdown",
      "id": "charged-sixth",
      "metadata": {
        "id": "charged-sixth"
      },
      "source": [
        "**Preliminaries**"
      ]
    },
    {
      "cell_type": "code",
      "execution_count": 25,
      "id": "forced-advantage",
      "metadata": {
        "id": "forced-advantage",
        "tags": []
      },
      "outputs": [],
      "source": [
        "import matplotlib.pyplot as plt\n",
        "import numpy as np\n",
        "import pandas as pd\n",
        "\n",
        "import time\n",
        "from datetime import datetime\n",
        "\n",
        "import pickle\n",
        "\n",
        "from sklearn.preprocessing import StandardScaler\n",
        "from sklearn.pipeline import make_pipeline\n",
        "from sklearn.model_selection import GridSearchCV, cross_val_score\n",
        "from sklearn.metrics import confusion_matrix, ConfusionMatrixDisplay, classification_report, roc_curve, roc_auc_score\n",
        "from sklearn.inspection import permutation_importance"
      ]
    },
    {
      "cell_type": "code",
      "execution_count": 26,
      "id": "plain-brisbane",
      "metadata": {
        "id": "plain-brisbane",
        "tags": []
      },
      "outputs": [],
      "source": [
        "# set random seed to allow for scikit-learn results to reproduced\n",
        "np.random.seed(22)"
      ]
    },
    {
      "cell_type": "markdown",
      "id": "union-length",
      "metadata": {
        "id": "union-length"
      },
      "source": [
        "**Loading of Data**"
      ]
    },
    {
      "cell_type": "code",
      "execution_count": 27,
      "id": "literary-shuttle",
      "metadata": {
        "colab": {
          "base_uri": "https://localhost:8080/",
          "height": 502
        },
        "id": "literary-shuttle",
        "outputId": "2acf87fd-8501-4908-ecef-d58062ed7b9e",
        "scrolled": true,
        "tags": []
      },
      "outputs": [
        {
          "output_type": "execute_result",
          "data": {
            "text/plain": [
              "       phishing  header-size  count-to  count-received  count-cc  count-bcc  \\\n",
              "0             0          493         1               0         0          0   \n",
              "1             0          507         1               0         0          0   \n",
              "2             0         3829         1               8         0          0   \n",
              "3             0         1392         1               4         0          0   \n",
              "4             0         1019         1               1         0          0   \n",
              "...         ...          ...       ...             ...       ...        ...   \n",
              "14383         1         2686         1               2         0          0   \n",
              "14384         1         2823         1               2         0          0   \n",
              "14385         1         2380         1               1         0          0   \n",
              "14386         1         2602         1               2         0          0   \n",
              "14387         1         2692         1               3         0          0   \n",
              "\n",
              "       same-id-sender  same-return-sender  subject-word-count  \\\n",
              "0                True                True                  13   \n",
              "1                True                True                  17   \n",
              "2                True                True                  24   \n",
              "3                True                True                   5   \n",
              "4                True                True                  14   \n",
              "...               ...                 ...                 ...   \n",
              "14383            True                True                  10   \n",
              "14384            True                True                   5   \n",
              "14385            True                True                   5   \n",
              "14386            True                True                   4   \n",
              "14387            True               False                   6   \n",
              "\n",
              "       subject-distinct-word-count  ...  body-word-count  \\\n",
              "0                               10  ...               12   \n",
              "1                               17  ...              257   \n",
              "2                               23  ...               70   \n",
              "3                                5  ...               11   \n",
              "4                               14  ...               27   \n",
              "...                            ...  ...              ...   \n",
              "14383                           10  ...             3708   \n",
              "14384                            5  ...              739   \n",
              "14385                            5  ...             1445   \n",
              "14386                            4  ...              334   \n",
              "14387                            6  ...             4455   \n",
              "\n",
              "       body-distint-word-count  body-richness  body-function-word-count  \\\n",
              "0                           12       0.352941                         0   \n",
              "1                          144       0.268828                         0   \n",
              "2                           58       0.230263                         0   \n",
              "3                           11       0.177419                         0   \n",
              "4                           26       0.204545                         0   \n",
              "...                        ...            ...                       ...   \n",
              "14383                      602       0.184579                         3   \n",
              "14384                      195       0.223668                         8   \n",
              "14385                      202       0.208574                         0   \n",
              "14386                      155       0.232106                         1   \n",
              "14387                      592       0.185077                        10   \n",
              "\n",
              "       has-html  has-form  difference-measure  difference-measure-unique  \\\n",
              "0         False     False               49635                      47220   \n",
              "1          True     False              180849                     112657   \n",
              "2          True     False              341690                     187225   \n",
              "3         False     False               77171                      61707   \n",
              "4          True     False               56244                      60999   \n",
              "...         ...       ...                 ...                        ...   \n",
              "14383      True     False              780510                     258861   \n",
              "14384      True     False              977919                     250883   \n",
              "14385      True     False              267365                     144481   \n",
              "14386      True     False              129544                      35849   \n",
              "14387      True     False              437241                     120542   \n",
              "\n",
              "       phishing-ratio  phishing-ratio-unique  \n",
              "0            7.162959               7.070917  \n",
              "1           39.625021              19.850423  \n",
              "2           35.636941              25.572848  \n",
              "3            8.020079               8.252500  \n",
              "4            8.682031               8.355112  \n",
              "...               ...                    ...  \n",
              "14383      169.073067             143.043212  \n",
              "14384      194.024057              76.146350  \n",
              "14385       45.174507              33.271741  \n",
              "14386       13.326531              10.917989  \n",
              "14387       81.048543              47.223098  \n",
              "\n",
              "[14388 rows x 26 columns]"
            ],
            "text/html": [
              "\n",
              "\n",
              "  <div id=\"df-91604866-e698-4de4-8b6b-79a5c170c574\">\n",
              "    <div class=\"colab-df-container\">\n",
              "      <div>\n",
              "<style scoped>\n",
              "    .dataframe tbody tr th:only-of-type {\n",
              "        vertical-align: middle;\n",
              "    }\n",
              "\n",
              "    .dataframe tbody tr th {\n",
              "        vertical-align: top;\n",
              "    }\n",
              "\n",
              "    .dataframe thead th {\n",
              "        text-align: right;\n",
              "    }\n",
              "</style>\n",
              "<table border=\"1\" class=\"dataframe\">\n",
              "  <thead>\n",
              "    <tr style=\"text-align: right;\">\n",
              "      <th></th>\n",
              "      <th>phishing</th>\n",
              "      <th>header-size</th>\n",
              "      <th>count-to</th>\n",
              "      <th>count-received</th>\n",
              "      <th>count-cc</th>\n",
              "      <th>count-bcc</th>\n",
              "      <th>same-id-sender</th>\n",
              "      <th>same-return-sender</th>\n",
              "      <th>subject-word-count</th>\n",
              "      <th>subject-distinct-word-count</th>\n",
              "      <th>...</th>\n",
              "      <th>body-word-count</th>\n",
              "      <th>body-distint-word-count</th>\n",
              "      <th>body-richness</th>\n",
              "      <th>body-function-word-count</th>\n",
              "      <th>has-html</th>\n",
              "      <th>has-form</th>\n",
              "      <th>difference-measure</th>\n",
              "      <th>difference-measure-unique</th>\n",
              "      <th>phishing-ratio</th>\n",
              "      <th>phishing-ratio-unique</th>\n",
              "    </tr>\n",
              "  </thead>\n",
              "  <tbody>\n",
              "    <tr>\n",
              "      <th>0</th>\n",
              "      <td>0</td>\n",
              "      <td>493</td>\n",
              "      <td>1</td>\n",
              "      <td>0</td>\n",
              "      <td>0</td>\n",
              "      <td>0</td>\n",
              "      <td>True</td>\n",
              "      <td>True</td>\n",
              "      <td>13</td>\n",
              "      <td>10</td>\n",
              "      <td>...</td>\n",
              "      <td>12</td>\n",
              "      <td>12</td>\n",
              "      <td>0.352941</td>\n",
              "      <td>0</td>\n",
              "      <td>False</td>\n",
              "      <td>False</td>\n",
              "      <td>49635</td>\n",
              "      <td>47220</td>\n",
              "      <td>7.162959</td>\n",
              "      <td>7.070917</td>\n",
              "    </tr>\n",
              "    <tr>\n",
              "      <th>1</th>\n",
              "      <td>0</td>\n",
              "      <td>507</td>\n",
              "      <td>1</td>\n",
              "      <td>0</td>\n",
              "      <td>0</td>\n",
              "      <td>0</td>\n",
              "      <td>True</td>\n",
              "      <td>True</td>\n",
              "      <td>17</td>\n",
              "      <td>17</td>\n",
              "      <td>...</td>\n",
              "      <td>257</td>\n",
              "      <td>144</td>\n",
              "      <td>0.268828</td>\n",
              "      <td>0</td>\n",
              "      <td>True</td>\n",
              "      <td>False</td>\n",
              "      <td>180849</td>\n",
              "      <td>112657</td>\n",
              "      <td>39.625021</td>\n",
              "      <td>19.850423</td>\n",
              "    </tr>\n",
              "    <tr>\n",
              "      <th>2</th>\n",
              "      <td>0</td>\n",
              "      <td>3829</td>\n",
              "      <td>1</td>\n",
              "      <td>8</td>\n",
              "      <td>0</td>\n",
              "      <td>0</td>\n",
              "      <td>True</td>\n",
              "      <td>True</td>\n",
              "      <td>24</td>\n",
              "      <td>23</td>\n",
              "      <td>...</td>\n",
              "      <td>70</td>\n",
              "      <td>58</td>\n",
              "      <td>0.230263</td>\n",
              "      <td>0</td>\n",
              "      <td>True</td>\n",
              "      <td>False</td>\n",
              "      <td>341690</td>\n",
              "      <td>187225</td>\n",
              "      <td>35.636941</td>\n",
              "      <td>25.572848</td>\n",
              "    </tr>\n",
              "    <tr>\n",
              "      <th>3</th>\n",
              "      <td>0</td>\n",
              "      <td>1392</td>\n",
              "      <td>1</td>\n",
              "      <td>4</td>\n",
              "      <td>0</td>\n",
              "      <td>0</td>\n",
              "      <td>True</td>\n",
              "      <td>True</td>\n",
              "      <td>5</td>\n",
              "      <td>5</td>\n",
              "      <td>...</td>\n",
              "      <td>11</td>\n",
              "      <td>11</td>\n",
              "      <td>0.177419</td>\n",
              "      <td>0</td>\n",
              "      <td>False</td>\n",
              "      <td>False</td>\n",
              "      <td>77171</td>\n",
              "      <td>61707</td>\n",
              "      <td>8.020079</td>\n",
              "      <td>8.252500</td>\n",
              "    </tr>\n",
              "    <tr>\n",
              "      <th>4</th>\n",
              "      <td>0</td>\n",
              "      <td>1019</td>\n",
              "      <td>1</td>\n",
              "      <td>1</td>\n",
              "      <td>0</td>\n",
              "      <td>0</td>\n",
              "      <td>True</td>\n",
              "      <td>True</td>\n",
              "      <td>14</td>\n",
              "      <td>14</td>\n",
              "      <td>...</td>\n",
              "      <td>27</td>\n",
              "      <td>26</td>\n",
              "      <td>0.204545</td>\n",
              "      <td>0</td>\n",
              "      <td>True</td>\n",
              "      <td>False</td>\n",
              "      <td>56244</td>\n",
              "      <td>60999</td>\n",
              "      <td>8.682031</td>\n",
              "      <td>8.355112</td>\n",
              "    </tr>\n",
              "    <tr>\n",
              "      <th>...</th>\n",
              "      <td>...</td>\n",
              "      <td>...</td>\n",
              "      <td>...</td>\n",
              "      <td>...</td>\n",
              "      <td>...</td>\n",
              "      <td>...</td>\n",
              "      <td>...</td>\n",
              "      <td>...</td>\n",
              "      <td>...</td>\n",
              "      <td>...</td>\n",
              "      <td>...</td>\n",
              "      <td>...</td>\n",
              "      <td>...</td>\n",
              "      <td>...</td>\n",
              "      <td>...</td>\n",
              "      <td>...</td>\n",
              "      <td>...</td>\n",
              "      <td>...</td>\n",
              "      <td>...</td>\n",
              "      <td>...</td>\n",
              "      <td>...</td>\n",
              "    </tr>\n",
              "    <tr>\n",
              "      <th>14383</th>\n",
              "      <td>1</td>\n",
              "      <td>2686</td>\n",
              "      <td>1</td>\n",
              "      <td>2</td>\n",
              "      <td>0</td>\n",
              "      <td>0</td>\n",
              "      <td>True</td>\n",
              "      <td>True</td>\n",
              "      <td>10</td>\n",
              "      <td>10</td>\n",
              "      <td>...</td>\n",
              "      <td>3708</td>\n",
              "      <td>602</td>\n",
              "      <td>0.184579</td>\n",
              "      <td>3</td>\n",
              "      <td>True</td>\n",
              "      <td>False</td>\n",
              "      <td>780510</td>\n",
              "      <td>258861</td>\n",
              "      <td>169.073067</td>\n",
              "      <td>143.043212</td>\n",
              "    </tr>\n",
              "    <tr>\n",
              "      <th>14384</th>\n",
              "      <td>1</td>\n",
              "      <td>2823</td>\n",
              "      <td>1</td>\n",
              "      <td>2</td>\n",
              "      <td>0</td>\n",
              "      <td>0</td>\n",
              "      <td>True</td>\n",
              "      <td>True</td>\n",
              "      <td>5</td>\n",
              "      <td>5</td>\n",
              "      <td>...</td>\n",
              "      <td>739</td>\n",
              "      <td>195</td>\n",
              "      <td>0.223668</td>\n",
              "      <td>8</td>\n",
              "      <td>True</td>\n",
              "      <td>False</td>\n",
              "      <td>977919</td>\n",
              "      <td>250883</td>\n",
              "      <td>194.024057</td>\n",
              "      <td>76.146350</td>\n",
              "    </tr>\n",
              "    <tr>\n",
              "      <th>14385</th>\n",
              "      <td>1</td>\n",
              "      <td>2380</td>\n",
              "      <td>1</td>\n",
              "      <td>1</td>\n",
              "      <td>0</td>\n",
              "      <td>0</td>\n",
              "      <td>True</td>\n",
              "      <td>True</td>\n",
              "      <td>5</td>\n",
              "      <td>5</td>\n",
              "      <td>...</td>\n",
              "      <td>1445</td>\n",
              "      <td>202</td>\n",
              "      <td>0.208574</td>\n",
              "      <td>0</td>\n",
              "      <td>True</td>\n",
              "      <td>False</td>\n",
              "      <td>267365</td>\n",
              "      <td>144481</td>\n",
              "      <td>45.174507</td>\n",
              "      <td>33.271741</td>\n",
              "    </tr>\n",
              "    <tr>\n",
              "      <th>14386</th>\n",
              "      <td>1</td>\n",
              "      <td>2602</td>\n",
              "      <td>1</td>\n",
              "      <td>2</td>\n",
              "      <td>0</td>\n",
              "      <td>0</td>\n",
              "      <td>True</td>\n",
              "      <td>True</td>\n",
              "      <td>4</td>\n",
              "      <td>4</td>\n",
              "      <td>...</td>\n",
              "      <td>334</td>\n",
              "      <td>155</td>\n",
              "      <td>0.232106</td>\n",
              "      <td>1</td>\n",
              "      <td>True</td>\n",
              "      <td>False</td>\n",
              "      <td>129544</td>\n",
              "      <td>35849</td>\n",
              "      <td>13.326531</td>\n",
              "      <td>10.917989</td>\n",
              "    </tr>\n",
              "    <tr>\n",
              "      <th>14387</th>\n",
              "      <td>1</td>\n",
              "      <td>2692</td>\n",
              "      <td>1</td>\n",
              "      <td>3</td>\n",
              "      <td>0</td>\n",
              "      <td>0</td>\n",
              "      <td>True</td>\n",
              "      <td>False</td>\n",
              "      <td>6</td>\n",
              "      <td>6</td>\n",
              "      <td>...</td>\n",
              "      <td>4455</td>\n",
              "      <td>592</td>\n",
              "      <td>0.185077</td>\n",
              "      <td>10</td>\n",
              "      <td>True</td>\n",
              "      <td>False</td>\n",
              "      <td>437241</td>\n",
              "      <td>120542</td>\n",
              "      <td>81.048543</td>\n",
              "      <td>47.223098</td>\n",
              "    </tr>\n",
              "  </tbody>\n",
              "</table>\n",
              "<p>14388 rows × 26 columns</p>\n",
              "</div>\n",
              "      <button class=\"colab-df-convert\" onclick=\"convertToInteractive('df-91604866-e698-4de4-8b6b-79a5c170c574')\"\n",
              "              title=\"Convert this dataframe to an interactive table.\"\n",
              "              style=\"display:none;\">\n",
              "\n",
              "  <svg xmlns=\"http://www.w3.org/2000/svg\" height=\"24px\"viewBox=\"0 0 24 24\"\n",
              "       width=\"24px\">\n",
              "    <path d=\"M0 0h24v24H0V0z\" fill=\"none\"/>\n",
              "    <path d=\"M18.56 5.44l.94 2.06.94-2.06 2.06-.94-2.06-.94-.94-2.06-.94 2.06-2.06.94zm-11 1L8.5 8.5l.94-2.06 2.06-.94-2.06-.94L8.5 2.5l-.94 2.06-2.06.94zm10 10l.94 2.06.94-2.06 2.06-.94-2.06-.94-.94-2.06-.94 2.06-2.06.94z\"/><path d=\"M17.41 7.96l-1.37-1.37c-.4-.4-.92-.59-1.43-.59-.52 0-1.04.2-1.43.59L10.3 9.45l-7.72 7.72c-.78.78-.78 2.05 0 2.83L4 21.41c.39.39.9.59 1.41.59.51 0 1.02-.2 1.41-.59l7.78-7.78 2.81-2.81c.8-.78.8-2.07 0-2.86zM5.41 20L4 18.59l7.72-7.72 1.47 1.35L5.41 20z\"/>\n",
              "  </svg>\n",
              "      </button>\n",
              "\n",
              "\n",
              "\n",
              "    <div id=\"df-2934b932-8a92-4aab-bd5c-ca09f89d963e\">\n",
              "      <button class=\"colab-df-quickchart\" onclick=\"quickchart('df-2934b932-8a92-4aab-bd5c-ca09f89d963e')\"\n",
              "              title=\"Suggest charts.\"\n",
              "              style=\"display:none;\">\n",
              "\n",
              "<svg xmlns=\"http://www.w3.org/2000/svg\" height=\"24px\"viewBox=\"0 0 24 24\"\n",
              "     width=\"24px\">\n",
              "    <g>\n",
              "        <path d=\"M19 3H5c-1.1 0-2 .9-2 2v14c0 1.1.9 2 2 2h14c1.1 0 2-.9 2-2V5c0-1.1-.9-2-2-2zM9 17H7v-7h2v7zm4 0h-2V7h2v10zm4 0h-2v-4h2v4z\"/>\n",
              "    </g>\n",
              "</svg>\n",
              "      </button>\n",
              "    </div>\n",
              "\n",
              "<style>\n",
              "  .colab-df-quickchart {\n",
              "    background-color: #E8F0FE;\n",
              "    border: none;\n",
              "    border-radius: 50%;\n",
              "    cursor: pointer;\n",
              "    display: none;\n",
              "    fill: #1967D2;\n",
              "    height: 32px;\n",
              "    padding: 0 0 0 0;\n",
              "    width: 32px;\n",
              "  }\n",
              "\n",
              "  .colab-df-quickchart:hover {\n",
              "    background-color: #E2EBFA;\n",
              "    box-shadow: 0px 1px 2px rgba(60, 64, 67, 0.3), 0px 1px 3px 1px rgba(60, 64, 67, 0.15);\n",
              "    fill: #174EA6;\n",
              "  }\n",
              "\n",
              "  [theme=dark] .colab-df-quickchart {\n",
              "    background-color: #3B4455;\n",
              "    fill: #D2E3FC;\n",
              "  }\n",
              "\n",
              "  [theme=dark] .colab-df-quickchart:hover {\n",
              "    background-color: #434B5C;\n",
              "    box-shadow: 0px 1px 3px 1px rgba(0, 0, 0, 0.15);\n",
              "    filter: drop-shadow(0px 1px 2px rgba(0, 0, 0, 0.3));\n",
              "    fill: #FFFFFF;\n",
              "  }\n",
              "</style>\n",
              "\n",
              "    <script>\n",
              "      async function quickchart(key) {\n",
              "        const containerElement = document.querySelector('#' + key);\n",
              "        const charts = await google.colab.kernel.invokeFunction(\n",
              "            'suggestCharts', [key], {});\n",
              "      }\n",
              "    </script>\n",
              "\n",
              "      <script>\n",
              "\n",
              "function displayQuickchartButton(domScope) {\n",
              "  let quickchartButtonEl =\n",
              "    domScope.querySelector('#df-2934b932-8a92-4aab-bd5c-ca09f89d963e button.colab-df-quickchart');\n",
              "  quickchartButtonEl.style.display =\n",
              "    google.colab.kernel.accessAllowed ? 'block' : 'none';\n",
              "}\n",
              "\n",
              "        displayQuickchartButton(document);\n",
              "      </script>\n",
              "      <style>\n",
              "    .colab-df-container {\n",
              "      display:flex;\n",
              "      flex-wrap:wrap;\n",
              "      gap: 12px;\n",
              "    }\n",
              "\n",
              "    .colab-df-convert {\n",
              "      background-color: #E8F0FE;\n",
              "      border: none;\n",
              "      border-radius: 50%;\n",
              "      cursor: pointer;\n",
              "      display: none;\n",
              "      fill: #1967D2;\n",
              "      height: 32px;\n",
              "      padding: 0 0 0 0;\n",
              "      width: 32px;\n",
              "    }\n",
              "\n",
              "    .colab-df-convert:hover {\n",
              "      background-color: #E2EBFA;\n",
              "      box-shadow: 0px 1px 2px rgba(60, 64, 67, 0.3), 0px 1px 3px 1px rgba(60, 64, 67, 0.15);\n",
              "      fill: #174EA6;\n",
              "    }\n",
              "\n",
              "    [theme=dark] .colab-df-convert {\n",
              "      background-color: #3B4455;\n",
              "      fill: #D2E3FC;\n",
              "    }\n",
              "\n",
              "    [theme=dark] .colab-df-convert:hover {\n",
              "      background-color: #434B5C;\n",
              "      box-shadow: 0px 1px 3px 1px rgba(0, 0, 0, 0.15);\n",
              "      filter: drop-shadow(0px 1px 2px rgba(0, 0, 0, 0.3));\n",
              "      fill: #FFFFFF;\n",
              "    }\n",
              "  </style>\n",
              "\n",
              "      <script>\n",
              "        const buttonEl =\n",
              "          document.querySelector('#df-91604866-e698-4de4-8b6b-79a5c170c574 button.colab-df-convert');\n",
              "        buttonEl.style.display =\n",
              "          google.colab.kernel.accessAllowed ? 'block' : 'none';\n",
              "\n",
              "        async function convertToInteractive(key) {\n",
              "          const element = document.querySelector('#df-91604866-e698-4de4-8b6b-79a5c170c574');\n",
              "          const dataTable =\n",
              "            await google.colab.kernel.invokeFunction('convertToInteractive',\n",
              "                                                     [key], {});\n",
              "          if (!dataTable) return;\n",
              "\n",
              "          const docLinkHtml = 'Like what you see? Visit the ' +\n",
              "            '<a target=\"_blank\" href=https://colab.research.google.com/notebooks/data_table.ipynb>data table notebook</a>'\n",
              "            + ' to learn more about interactive tables.';\n",
              "          element.innerHTML = '';\n",
              "          dataTable['output_type'] = 'display_data';\n",
              "          await google.colab.output.renderOutput(dataTable, element);\n",
              "          const docLink = document.createElement('div');\n",
              "          docLink.innerHTML = docLinkHtml;\n",
              "          element.appendChild(docLink);\n",
              "        }\n",
              "      </script>\n",
              "    </div>\n",
              "  </div>\n"
            ]
          },
          "metadata": {},
          "execution_count": 27
        }
      ],
      "source": [
        "# make a pandas DataFrame from the features extracted using Extraction.ipynb\n",
        "extracted_features = pd.read_csv(\"https://anti-phish.s3.eu-west-1.amazonaws.com/dataset/extracted/extracted_features.csv\", index_col=0)\n",
        "\n",
        "# preview the DataFrame\n",
        "extracted_features"
      ]
    },
    {
      "cell_type": "code",
      "execution_count": 28,
      "id": "dramatic-frequency",
      "metadata": {
        "colab": {
          "base_uri": "https://localhost:8080/"
        },
        "id": "dramatic-frequency",
        "outputId": "16d26f39-fb6d-4522-fedb-2c57070bb1ab",
        "tags": []
      },
      "outputs": [
        {
          "output_type": "stream",
          "name": "stdout",
          "text": [
            "<class 'pandas.core.frame.DataFrame'>\n",
            "Int64Index: 14388 entries, 0 to 14387\n",
            "Data columns (total 26 columns):\n",
            " #   Column                       Non-Null Count  Dtype  \n",
            "---  ------                       --------------  -----  \n",
            " 0   phishing                     14388 non-null  int64  \n",
            " 1   header-size                  14388 non-null  int64  \n",
            " 2   count-to                     14388 non-null  int64  \n",
            " 3   count-received               14388 non-null  int64  \n",
            " 4   count-cc                     14388 non-null  int64  \n",
            " 5   count-bcc                    14388 non-null  int64  \n",
            " 6   same-id-sender               14388 non-null  bool   \n",
            " 7   same-return-sender           14388 non-null  bool   \n",
            " 8   subject-word-count           14388 non-null  int64  \n",
            " 9   subject-distinct-word-count  14388 non-null  int64  \n",
            " 10  subject-richness             14388 non-null  float64\n",
            " 11  subject-function-word-count  14388 non-null  int64  \n",
            " 12  is-reply                     14388 non-null  bool   \n",
            " 13  is-forward                   14388 non-null  bool   \n",
            " 14  count-content-types          14388 non-null  int64  \n",
            " 15  count-attachments            14388 non-null  int64  \n",
            " 16  body-word-count              14388 non-null  int64  \n",
            " 17  body-distint-word-count      14388 non-null  int64  \n",
            " 18  body-richness                14388 non-null  float64\n",
            " 19  body-function-word-count     14388 non-null  int64  \n",
            " 20  has-html                     14388 non-null  bool   \n",
            " 21  has-form                     14388 non-null  bool   \n",
            " 22  difference-measure           14388 non-null  int64  \n",
            " 23  difference-measure-unique    14388 non-null  int64  \n",
            " 24  phishing-ratio               14388 non-null  float64\n",
            " 25  phishing-ratio-unique        14388 non-null  float64\n",
            "dtypes: bool(6), float64(4), int64(16)\n",
            "memory usage: 2.4 MB\n"
          ]
        }
      ],
      "source": [
        "# verify variable types\n",
        "extracted_features.info()"
      ]
    },
    {
      "cell_type": "code",
      "execution_count": 29,
      "id": "iraqi-chair",
      "metadata": {
        "id": "iraqi-chair",
        "tags": []
      },
      "outputs": [],
      "source": [
        "# separate predictor and target variables\n",
        "X = extracted_features.drop('phishing', axis = 1)\n",
        "y = extracted_features['phishing'].values"
      ]
    },
    {
      "cell_type": "code",
      "execution_count": 30,
      "id": "entire-receptor",
      "metadata": {
        "colab": {
          "base_uri": "https://localhost:8080/",
          "height": 502
        },
        "id": "entire-receptor",
        "outputId": "1ee369cd-f060-44fa-8037-9d33242b6a85",
        "tags": []
      },
      "outputs": [
        {
          "output_type": "execute_result",
          "data": {
            "text/plain": [
              "       header-size  count-to  count-received  count-cc  count-bcc  \\\n",
              "0              493         1               0         0          0   \n",
              "1              507         1               0         0          0   \n",
              "2             3829         1               8         0          0   \n",
              "3             1392         1               4         0          0   \n",
              "4             1019         1               1         0          0   \n",
              "...            ...       ...             ...       ...        ...   \n",
              "14383         2686         1               2         0          0   \n",
              "14384         2823         1               2         0          0   \n",
              "14385         2380         1               1         0          0   \n",
              "14386         2602         1               2         0          0   \n",
              "14387         2692         1               3         0          0   \n",
              "\n",
              "       same-id-sender  same-return-sender  subject-word-count  \\\n",
              "0                True                True                  13   \n",
              "1                True                True                  17   \n",
              "2                True                True                  24   \n",
              "3                True                True                   5   \n",
              "4                True                True                  14   \n",
              "...               ...                 ...                 ...   \n",
              "14383            True                True                  10   \n",
              "14384            True                True                   5   \n",
              "14385            True                True                   5   \n",
              "14386            True                True                   4   \n",
              "14387            True               False                   6   \n",
              "\n",
              "       subject-distinct-word-count  subject-richness  ...  body-word-count  \\\n",
              "0                               10          0.342105  ...               12   \n",
              "1                               17          0.354167  ...              257   \n",
              "2                               23          0.252632  ...               70   \n",
              "3                                5          0.312500  ...               11   \n",
              "4                               14          0.250000  ...               27   \n",
              "...                            ...               ...  ...              ...   \n",
              "14383                           10          0.256410  ...             3708   \n",
              "14384                            5          0.108696  ...              739   \n",
              "14385                            5          0.192308  ...             1445   \n",
              "14386                            4          0.160000  ...              334   \n",
              "14387                            6          0.187500  ...             4455   \n",
              "\n",
              "       body-distint-word-count  body-richness  body-function-word-count  \\\n",
              "0                           12       0.352941                         0   \n",
              "1                          144       0.268828                         0   \n",
              "2                           58       0.230263                         0   \n",
              "3                           11       0.177419                         0   \n",
              "4                           26       0.204545                         0   \n",
              "...                        ...            ...                       ...   \n",
              "14383                      602       0.184579                         3   \n",
              "14384                      195       0.223668                         8   \n",
              "14385                      202       0.208574                         0   \n",
              "14386                      155       0.232106                         1   \n",
              "14387                      592       0.185077                        10   \n",
              "\n",
              "       has-html  has-form  difference-measure  difference-measure-unique  \\\n",
              "0         False     False               49635                      47220   \n",
              "1          True     False              180849                     112657   \n",
              "2          True     False              341690                     187225   \n",
              "3         False     False               77171                      61707   \n",
              "4          True     False               56244                      60999   \n",
              "...         ...       ...                 ...                        ...   \n",
              "14383      True     False              780510                     258861   \n",
              "14384      True     False              977919                     250883   \n",
              "14385      True     False              267365                     144481   \n",
              "14386      True     False              129544                      35849   \n",
              "14387      True     False              437241                     120542   \n",
              "\n",
              "       phishing-ratio  phishing-ratio-unique  \n",
              "0            7.162959               7.070917  \n",
              "1           39.625021              19.850423  \n",
              "2           35.636941              25.572848  \n",
              "3            8.020079               8.252500  \n",
              "4            8.682031               8.355112  \n",
              "...               ...                    ...  \n",
              "14383      169.073067             143.043212  \n",
              "14384      194.024057              76.146350  \n",
              "14385       45.174507              33.271741  \n",
              "14386       13.326531              10.917989  \n",
              "14387       81.048543              47.223098  \n",
              "\n",
              "[14388 rows x 25 columns]"
            ],
            "text/html": [
              "\n",
              "\n",
              "  <div id=\"df-7d75ad5f-fe7d-4ab6-9e2c-f6f691931a68\">\n",
              "    <div class=\"colab-df-container\">\n",
              "      <div>\n",
              "<style scoped>\n",
              "    .dataframe tbody tr th:only-of-type {\n",
              "        vertical-align: middle;\n",
              "    }\n",
              "\n",
              "    .dataframe tbody tr th {\n",
              "        vertical-align: top;\n",
              "    }\n",
              "\n",
              "    .dataframe thead th {\n",
              "        text-align: right;\n",
              "    }\n",
              "</style>\n",
              "<table border=\"1\" class=\"dataframe\">\n",
              "  <thead>\n",
              "    <tr style=\"text-align: right;\">\n",
              "      <th></th>\n",
              "      <th>header-size</th>\n",
              "      <th>count-to</th>\n",
              "      <th>count-received</th>\n",
              "      <th>count-cc</th>\n",
              "      <th>count-bcc</th>\n",
              "      <th>same-id-sender</th>\n",
              "      <th>same-return-sender</th>\n",
              "      <th>subject-word-count</th>\n",
              "      <th>subject-distinct-word-count</th>\n",
              "      <th>subject-richness</th>\n",
              "      <th>...</th>\n",
              "      <th>body-word-count</th>\n",
              "      <th>body-distint-word-count</th>\n",
              "      <th>body-richness</th>\n",
              "      <th>body-function-word-count</th>\n",
              "      <th>has-html</th>\n",
              "      <th>has-form</th>\n",
              "      <th>difference-measure</th>\n",
              "      <th>difference-measure-unique</th>\n",
              "      <th>phishing-ratio</th>\n",
              "      <th>phishing-ratio-unique</th>\n",
              "    </tr>\n",
              "  </thead>\n",
              "  <tbody>\n",
              "    <tr>\n",
              "      <th>0</th>\n",
              "      <td>493</td>\n",
              "      <td>1</td>\n",
              "      <td>0</td>\n",
              "      <td>0</td>\n",
              "      <td>0</td>\n",
              "      <td>True</td>\n",
              "      <td>True</td>\n",
              "      <td>13</td>\n",
              "      <td>10</td>\n",
              "      <td>0.342105</td>\n",
              "      <td>...</td>\n",
              "      <td>12</td>\n",
              "      <td>12</td>\n",
              "      <td>0.352941</td>\n",
              "      <td>0</td>\n",
              "      <td>False</td>\n",
              "      <td>False</td>\n",
              "      <td>49635</td>\n",
              "      <td>47220</td>\n",
              "      <td>7.162959</td>\n",
              "      <td>7.070917</td>\n",
              "    </tr>\n",
              "    <tr>\n",
              "      <th>1</th>\n",
              "      <td>507</td>\n",
              "      <td>1</td>\n",
              "      <td>0</td>\n",
              "      <td>0</td>\n",
              "      <td>0</td>\n",
              "      <td>True</td>\n",
              "      <td>True</td>\n",
              "      <td>17</td>\n",
              "      <td>17</td>\n",
              "      <td>0.354167</td>\n",
              "      <td>...</td>\n",
              "      <td>257</td>\n",
              "      <td>144</td>\n",
              "      <td>0.268828</td>\n",
              "      <td>0</td>\n",
              "      <td>True</td>\n",
              "      <td>False</td>\n",
              "      <td>180849</td>\n",
              "      <td>112657</td>\n",
              "      <td>39.625021</td>\n",
              "      <td>19.850423</td>\n",
              "    </tr>\n",
              "    <tr>\n",
              "      <th>2</th>\n",
              "      <td>3829</td>\n",
              "      <td>1</td>\n",
              "      <td>8</td>\n",
              "      <td>0</td>\n",
              "      <td>0</td>\n",
              "      <td>True</td>\n",
              "      <td>True</td>\n",
              "      <td>24</td>\n",
              "      <td>23</td>\n",
              "      <td>0.252632</td>\n",
              "      <td>...</td>\n",
              "      <td>70</td>\n",
              "      <td>58</td>\n",
              "      <td>0.230263</td>\n",
              "      <td>0</td>\n",
              "      <td>True</td>\n",
              "      <td>False</td>\n",
              "      <td>341690</td>\n",
              "      <td>187225</td>\n",
              "      <td>35.636941</td>\n",
              "      <td>25.572848</td>\n",
              "    </tr>\n",
              "    <tr>\n",
              "      <th>3</th>\n",
              "      <td>1392</td>\n",
              "      <td>1</td>\n",
              "      <td>4</td>\n",
              "      <td>0</td>\n",
              "      <td>0</td>\n",
              "      <td>True</td>\n",
              "      <td>True</td>\n",
              "      <td>5</td>\n",
              "      <td>5</td>\n",
              "      <td>0.312500</td>\n",
              "      <td>...</td>\n",
              "      <td>11</td>\n",
              "      <td>11</td>\n",
              "      <td>0.177419</td>\n",
              "      <td>0</td>\n",
              "      <td>False</td>\n",
              "      <td>False</td>\n",
              "      <td>77171</td>\n",
              "      <td>61707</td>\n",
              "      <td>8.020079</td>\n",
              "      <td>8.252500</td>\n",
              "    </tr>\n",
              "    <tr>\n",
              "      <th>4</th>\n",
              "      <td>1019</td>\n",
              "      <td>1</td>\n",
              "      <td>1</td>\n",
              "      <td>0</td>\n",
              "      <td>0</td>\n",
              "      <td>True</td>\n",
              "      <td>True</td>\n",
              "      <td>14</td>\n",
              "      <td>14</td>\n",
              "      <td>0.250000</td>\n",
              "      <td>...</td>\n",
              "      <td>27</td>\n",
              "      <td>26</td>\n",
              "      <td>0.204545</td>\n",
              "      <td>0</td>\n",
              "      <td>True</td>\n",
              "      <td>False</td>\n",
              "      <td>56244</td>\n",
              "      <td>60999</td>\n",
              "      <td>8.682031</td>\n",
              "      <td>8.355112</td>\n",
              "    </tr>\n",
              "    <tr>\n",
              "      <th>...</th>\n",
              "      <td>...</td>\n",
              "      <td>...</td>\n",
              "      <td>...</td>\n",
              "      <td>...</td>\n",
              "      <td>...</td>\n",
              "      <td>...</td>\n",
              "      <td>...</td>\n",
              "      <td>...</td>\n",
              "      <td>...</td>\n",
              "      <td>...</td>\n",
              "      <td>...</td>\n",
              "      <td>...</td>\n",
              "      <td>...</td>\n",
              "      <td>...</td>\n",
              "      <td>...</td>\n",
              "      <td>...</td>\n",
              "      <td>...</td>\n",
              "      <td>...</td>\n",
              "      <td>...</td>\n",
              "      <td>...</td>\n",
              "      <td>...</td>\n",
              "    </tr>\n",
              "    <tr>\n",
              "      <th>14383</th>\n",
              "      <td>2686</td>\n",
              "      <td>1</td>\n",
              "      <td>2</td>\n",
              "      <td>0</td>\n",
              "      <td>0</td>\n",
              "      <td>True</td>\n",
              "      <td>True</td>\n",
              "      <td>10</td>\n",
              "      <td>10</td>\n",
              "      <td>0.256410</td>\n",
              "      <td>...</td>\n",
              "      <td>3708</td>\n",
              "      <td>602</td>\n",
              "      <td>0.184579</td>\n",
              "      <td>3</td>\n",
              "      <td>True</td>\n",
              "      <td>False</td>\n",
              "      <td>780510</td>\n",
              "      <td>258861</td>\n",
              "      <td>169.073067</td>\n",
              "      <td>143.043212</td>\n",
              "    </tr>\n",
              "    <tr>\n",
              "      <th>14384</th>\n",
              "      <td>2823</td>\n",
              "      <td>1</td>\n",
              "      <td>2</td>\n",
              "      <td>0</td>\n",
              "      <td>0</td>\n",
              "      <td>True</td>\n",
              "      <td>True</td>\n",
              "      <td>5</td>\n",
              "      <td>5</td>\n",
              "      <td>0.108696</td>\n",
              "      <td>...</td>\n",
              "      <td>739</td>\n",
              "      <td>195</td>\n",
              "      <td>0.223668</td>\n",
              "      <td>8</td>\n",
              "      <td>True</td>\n",
              "      <td>False</td>\n",
              "      <td>977919</td>\n",
              "      <td>250883</td>\n",
              "      <td>194.024057</td>\n",
              "      <td>76.146350</td>\n",
              "    </tr>\n",
              "    <tr>\n",
              "      <th>14385</th>\n",
              "      <td>2380</td>\n",
              "      <td>1</td>\n",
              "      <td>1</td>\n",
              "      <td>0</td>\n",
              "      <td>0</td>\n",
              "      <td>True</td>\n",
              "      <td>True</td>\n",
              "      <td>5</td>\n",
              "      <td>5</td>\n",
              "      <td>0.192308</td>\n",
              "      <td>...</td>\n",
              "      <td>1445</td>\n",
              "      <td>202</td>\n",
              "      <td>0.208574</td>\n",
              "      <td>0</td>\n",
              "      <td>True</td>\n",
              "      <td>False</td>\n",
              "      <td>267365</td>\n",
              "      <td>144481</td>\n",
              "      <td>45.174507</td>\n",
              "      <td>33.271741</td>\n",
              "    </tr>\n",
              "    <tr>\n",
              "      <th>14386</th>\n",
              "      <td>2602</td>\n",
              "      <td>1</td>\n",
              "      <td>2</td>\n",
              "      <td>0</td>\n",
              "      <td>0</td>\n",
              "      <td>True</td>\n",
              "      <td>True</td>\n",
              "      <td>4</td>\n",
              "      <td>4</td>\n",
              "      <td>0.160000</td>\n",
              "      <td>...</td>\n",
              "      <td>334</td>\n",
              "      <td>155</td>\n",
              "      <td>0.232106</td>\n",
              "      <td>1</td>\n",
              "      <td>True</td>\n",
              "      <td>False</td>\n",
              "      <td>129544</td>\n",
              "      <td>35849</td>\n",
              "      <td>13.326531</td>\n",
              "      <td>10.917989</td>\n",
              "    </tr>\n",
              "    <tr>\n",
              "      <th>14387</th>\n",
              "      <td>2692</td>\n",
              "      <td>1</td>\n",
              "      <td>3</td>\n",
              "      <td>0</td>\n",
              "      <td>0</td>\n",
              "      <td>True</td>\n",
              "      <td>False</td>\n",
              "      <td>6</td>\n",
              "      <td>6</td>\n",
              "      <td>0.187500</td>\n",
              "      <td>...</td>\n",
              "      <td>4455</td>\n",
              "      <td>592</td>\n",
              "      <td>0.185077</td>\n",
              "      <td>10</td>\n",
              "      <td>True</td>\n",
              "      <td>False</td>\n",
              "      <td>437241</td>\n",
              "      <td>120542</td>\n",
              "      <td>81.048543</td>\n",
              "      <td>47.223098</td>\n",
              "    </tr>\n",
              "  </tbody>\n",
              "</table>\n",
              "<p>14388 rows × 25 columns</p>\n",
              "</div>\n",
              "      <button class=\"colab-df-convert\" onclick=\"convertToInteractive('df-7d75ad5f-fe7d-4ab6-9e2c-f6f691931a68')\"\n",
              "              title=\"Convert this dataframe to an interactive table.\"\n",
              "              style=\"display:none;\">\n",
              "\n",
              "  <svg xmlns=\"http://www.w3.org/2000/svg\" height=\"24px\"viewBox=\"0 0 24 24\"\n",
              "       width=\"24px\">\n",
              "    <path d=\"M0 0h24v24H0V0z\" fill=\"none\"/>\n",
              "    <path d=\"M18.56 5.44l.94 2.06.94-2.06 2.06-.94-2.06-.94-.94-2.06-.94 2.06-2.06.94zm-11 1L8.5 8.5l.94-2.06 2.06-.94-2.06-.94L8.5 2.5l-.94 2.06-2.06.94zm10 10l.94 2.06.94-2.06 2.06-.94-2.06-.94-.94-2.06-.94 2.06-2.06.94z\"/><path d=\"M17.41 7.96l-1.37-1.37c-.4-.4-.92-.59-1.43-.59-.52 0-1.04.2-1.43.59L10.3 9.45l-7.72 7.72c-.78.78-.78 2.05 0 2.83L4 21.41c.39.39.9.59 1.41.59.51 0 1.02-.2 1.41-.59l7.78-7.78 2.81-2.81c.8-.78.8-2.07 0-2.86zM5.41 20L4 18.59l7.72-7.72 1.47 1.35L5.41 20z\"/>\n",
              "  </svg>\n",
              "      </button>\n",
              "\n",
              "\n",
              "\n",
              "    <div id=\"df-804b1b63-23a5-4511-947c-c02b2622b118\">\n",
              "      <button class=\"colab-df-quickchart\" onclick=\"quickchart('df-804b1b63-23a5-4511-947c-c02b2622b118')\"\n",
              "              title=\"Suggest charts.\"\n",
              "              style=\"display:none;\">\n",
              "\n",
              "<svg xmlns=\"http://www.w3.org/2000/svg\" height=\"24px\"viewBox=\"0 0 24 24\"\n",
              "     width=\"24px\">\n",
              "    <g>\n",
              "        <path d=\"M19 3H5c-1.1 0-2 .9-2 2v14c0 1.1.9 2 2 2h14c1.1 0 2-.9 2-2V5c0-1.1-.9-2-2-2zM9 17H7v-7h2v7zm4 0h-2V7h2v10zm4 0h-2v-4h2v4z\"/>\n",
              "    </g>\n",
              "</svg>\n",
              "      </button>\n",
              "    </div>\n",
              "\n",
              "<style>\n",
              "  .colab-df-quickchart {\n",
              "    background-color: #E8F0FE;\n",
              "    border: none;\n",
              "    border-radius: 50%;\n",
              "    cursor: pointer;\n",
              "    display: none;\n",
              "    fill: #1967D2;\n",
              "    height: 32px;\n",
              "    padding: 0 0 0 0;\n",
              "    width: 32px;\n",
              "  }\n",
              "\n",
              "  .colab-df-quickchart:hover {\n",
              "    background-color: #E2EBFA;\n",
              "    box-shadow: 0px 1px 2px rgba(60, 64, 67, 0.3), 0px 1px 3px 1px rgba(60, 64, 67, 0.15);\n",
              "    fill: #174EA6;\n",
              "  }\n",
              "\n",
              "  [theme=dark] .colab-df-quickchart {\n",
              "    background-color: #3B4455;\n",
              "    fill: #D2E3FC;\n",
              "  }\n",
              "\n",
              "  [theme=dark] .colab-df-quickchart:hover {\n",
              "    background-color: #434B5C;\n",
              "    box-shadow: 0px 1px 3px 1px rgba(0, 0, 0, 0.15);\n",
              "    filter: drop-shadow(0px 1px 2px rgba(0, 0, 0, 0.3));\n",
              "    fill: #FFFFFF;\n",
              "  }\n",
              "</style>\n",
              "\n",
              "    <script>\n",
              "      async function quickchart(key) {\n",
              "        const containerElement = document.querySelector('#' + key);\n",
              "        const charts = await google.colab.kernel.invokeFunction(\n",
              "            'suggestCharts', [key], {});\n",
              "      }\n",
              "    </script>\n",
              "\n",
              "      <script>\n",
              "\n",
              "function displayQuickchartButton(domScope) {\n",
              "  let quickchartButtonEl =\n",
              "    domScope.querySelector('#df-804b1b63-23a5-4511-947c-c02b2622b118 button.colab-df-quickchart');\n",
              "  quickchartButtonEl.style.display =\n",
              "    google.colab.kernel.accessAllowed ? 'block' : 'none';\n",
              "}\n",
              "\n",
              "        displayQuickchartButton(document);\n",
              "      </script>\n",
              "      <style>\n",
              "    .colab-df-container {\n",
              "      display:flex;\n",
              "      flex-wrap:wrap;\n",
              "      gap: 12px;\n",
              "    }\n",
              "\n",
              "    .colab-df-convert {\n",
              "      background-color: #E8F0FE;\n",
              "      border: none;\n",
              "      border-radius: 50%;\n",
              "      cursor: pointer;\n",
              "      display: none;\n",
              "      fill: #1967D2;\n",
              "      height: 32px;\n",
              "      padding: 0 0 0 0;\n",
              "      width: 32px;\n",
              "    }\n",
              "\n",
              "    .colab-df-convert:hover {\n",
              "      background-color: #E2EBFA;\n",
              "      box-shadow: 0px 1px 2px rgba(60, 64, 67, 0.3), 0px 1px 3px 1px rgba(60, 64, 67, 0.15);\n",
              "      fill: #174EA6;\n",
              "    }\n",
              "\n",
              "    [theme=dark] .colab-df-convert {\n",
              "      background-color: #3B4455;\n",
              "      fill: #D2E3FC;\n",
              "    }\n",
              "\n",
              "    [theme=dark] .colab-df-convert:hover {\n",
              "      background-color: #434B5C;\n",
              "      box-shadow: 0px 1px 3px 1px rgba(0, 0, 0, 0.15);\n",
              "      filter: drop-shadow(0px 1px 2px rgba(0, 0, 0, 0.3));\n",
              "      fill: #FFFFFF;\n",
              "    }\n",
              "  </style>\n",
              "\n",
              "      <script>\n",
              "        const buttonEl =\n",
              "          document.querySelector('#df-7d75ad5f-fe7d-4ab6-9e2c-f6f691931a68 button.colab-df-convert');\n",
              "        buttonEl.style.display =\n",
              "          google.colab.kernel.accessAllowed ? 'block' : 'none';\n",
              "\n",
              "        async function convertToInteractive(key) {\n",
              "          const element = document.querySelector('#df-7d75ad5f-fe7d-4ab6-9e2c-f6f691931a68');\n",
              "          const dataTable =\n",
              "            await google.colab.kernel.invokeFunction('convertToInteractive',\n",
              "                                                     [key], {});\n",
              "          if (!dataTable) return;\n",
              "\n",
              "          const docLinkHtml = 'Like what you see? Visit the ' +\n",
              "            '<a target=\"_blank\" href=https://colab.research.google.com/notebooks/data_table.ipynb>data table notebook</a>'\n",
              "            + ' to learn more about interactive tables.';\n",
              "          element.innerHTML = '';\n",
              "          dataTable['output_type'] = 'display_data';\n",
              "          await google.colab.output.renderOutput(dataTable, element);\n",
              "          const docLink = document.createElement('div');\n",
              "          docLink.innerHTML = docLinkHtml;\n",
              "          element.appendChild(docLink);\n",
              "        }\n",
              "      </script>\n",
              "    </div>\n",
              "  </div>\n"
            ]
          },
          "metadata": {},
          "execution_count": 30
        }
      ],
      "source": [
        "# dataframe of predictor variables values\n",
        "X"
      ]
    },
    {
      "cell_type": "code",
      "execution_count": 31,
      "id": "medium-orchestra",
      "metadata": {
        "colab": {
          "base_uri": "https://localhost:8080/"
        },
        "id": "medium-orchestra",
        "outputId": "502e310d-9074-40a5-fabd-0966295e2d76",
        "tags": []
      },
      "outputs": [
        {
          "output_type": "execute_result",
          "data": {
            "text/plain": [
              "array([0, 0, 0, ..., 1, 1, 1])"
            ]
          },
          "metadata": {},
          "execution_count": 31
        }
      ],
      "source": [
        "# array of target variable phishing values\n",
        "y"
      ]
    },
    {
      "cell_type": "code",
      "execution_count": 32,
      "id": "df5c582f-9a6c-4676-9d44-77098404de18",
      "metadata": {
        "tags": [],
        "id": "df5c582f-9a6c-4676-9d44-77098404de18"
      },
      "outputs": [],
      "source": [
        "from sklearn.model_selection import train_test_split\n",
        "\n",
        "# split into 80% training and 20% testing subsets\n",
        "X_train, X_test, y_train, y_test = train_test_split(X, y, test_size = 0.2, random_state=22)"
      ]
    },
    {
      "cell_type": "markdown",
      "id": "bridal-sequence",
      "metadata": {
        "id": "bridal-sequence"
      },
      "source": [
        "**Model Training, Testing and Export**"
      ]
    },
    {
      "cell_type": "markdown",
      "id": "aggressive-dinner",
      "metadata": {
        "id": "aggressive-dinner"
      },
      "source": [
        "**1. Naive Bayes Classificiation**"
      ]
    },
    {
      "cell_type": "code",
      "execution_count": 33,
      "id": "round-hybrid",
      "metadata": {
        "colab": {
          "base_uri": "https://localhost:8080/"
        },
        "id": "round-hybrid",
        "outputId": "5a97ba87-4e87-47ca-a2f5-ed12e4285309",
        "tags": []
      },
      "outputs": [
        {
          "output_type": "stream",
          "name": "stdout",
          "text": [
            "Model Training time: 9.74515175819397 seconds\n",
            "Best parameters: {'gaussiannb__var_smoothing': 0.012328467394420659}\n",
            "Accuracy: 0.9287699791521891\n"
          ]
        }
      ],
      "source": [
        "from sklearn.naive_bayes import GaussianNB\n",
        "\n",
        "# parameter grid of different hyperparameters to be tuned\n",
        "param_grid = [{'gaussiannb__var_smoothing': np.logspace(0,-9, num=100)}]\n",
        "\n",
        "# pipe combining an instance of a StandardScaler() and our classification model to normalise training and testing data\n",
        "pipe_nb = make_pipeline(StandardScaler(),\n",
        "                        GaussianNB())\n",
        "# instantiate an instance of GridSearchCV that, when fitting, will cycle through the parameter grid and choose the best classification model\n",
        "model_nb = GridSearchCV(estimator=pipe_nb, param_grid=param_grid)\n",
        "\n",
        "# track how long it takes to train the model\n",
        "start_time = time.time()\n",
        "\n",
        "# fit the Cross Validator on the training data\n",
        "model_nb.fit(X_train, y_train)\n",
        "\n",
        "nb_training_time = time.time() - start_time\n",
        "\n",
        "# output the best chosen parameters and the model's accuracy on the testing subset\n",
        "print('Model Training time:', nb_training_time, 'seconds')\n",
        "print('Best parameters:', model_nb.best_params_)\n",
        "print('Accuracy:', model_nb.score(X_test, y_test))"
      ]
    },
    {
      "cell_type": "code",
      "execution_count": 34,
      "id": "brave-gazette",
      "metadata": {
        "colab": {
          "base_uri": "https://localhost:8080/",
          "height": 467
        },
        "id": "brave-gazette",
        "outputId": "b2ba70f7-70ab-4123-9a4b-49a9cf2b60d6",
        "scrolled": true,
        "tags": []
      },
      "outputs": [
        {
          "output_type": "execute_result",
          "data": {
            "text/plain": [
              "<sklearn.metrics._plot.confusion_matrix.ConfusionMatrixDisplay at 0x7894b4f4fb50>"
            ]
          },
          "metadata": {},
          "execution_count": 34
        },
        {
          "output_type": "display_data",
          "data": {
            "text/plain": [
              "<Figure size 640x480 with 2 Axes>"
            ],
            "image/png": "[encoded data removed]"
          },
          "metadata": {}
        }
      ],
      "source": [
        "# calculate the predicted labels of the test set\n",
        "y_pred_nb = model_nb.predict(X_test)\n",
        "\n",
        "# generate a normalised confusion matrix comparing the predictions to the actual phishing labels\n",
        "cm_nb = confusion_matrix(y_test, y_pred_nb, normalize='all')\n",
        "\n",
        "# plot confusion matrix\n",
        "ConfusionMatrixDisplay(cm_nb).plot()"
      ]
    },
    {
      "cell_type": "code",
      "execution_count": 35,
      "id": "floral-atlanta",
      "metadata": {
        "colab": {
          "base_uri": "https://localhost:8080/"
        },
        "id": "floral-atlanta",
        "outputId": "44040f08-1d78-47d7-8510-3e0ac2ec63b6",
        "tags": []
      },
      "outputs": [
        {
          "output_type": "stream",
          "name": "stdout",
          "text": [
            "              precision    recall  f1-score   support\n",
            "\n",
            "           0       0.81      0.98      0.89       831\n",
            "           1       0.99      0.91      0.95      2047\n",
            "\n",
            "    accuracy                           0.93      2878\n",
            "   macro avg       0.90      0.94      0.92      2878\n",
            "weighted avg       0.94      0.93      0.93      2878\n",
            "\n"
          ]
        }
      ],
      "source": [
        "# print classification report\n",
        "print(classification_report(y_test, y_pred_nb))"
      ]
    },
    {
      "cell_type": "code",
      "execution_count": 36,
      "id": "pursuant-turner",
      "metadata": {
        "colab": {
          "base_uri": "https://localhost:8080/",
          "height": 472
        },
        "id": "pursuant-turner",
        "outputId": "4c797f7b-c168-4a06-a9e8-c63ea14dd1ab",
        "tags": []
      },
      "outputs": [
        {
          "output_type": "display_data",
          "data": {
            "text/plain": [
              "<Figure size 640x480 with 1 Axes>"
            ],
            "image/png": "[encoded data removed]"
          },
          "metadata": {}
        }
      ],
      "source": [
        "# Naive Bayes Receiver Operating Characteristics Curve\n",
        "y_proba_nb = model_nb.predict_proba(X_test)[:,1]\n",
        "\n",
        "fpr, tpr, thresholds = roc_curve(y_test, y_proba_nb)\n",
        "\n",
        "plt.plot([0, 1], [0, 1], 'k--')\n",
        "plt.plot(fpr, tpr)\n",
        "plt.xlabel('False Positive Rate')\n",
        "plt.ylabel('True Positive Rate')\n",
        "plt.title('Naive Bayes ROC Curve')\n",
        "plt.show()"
      ]
    },
    {
      "cell_type": "code",
      "execution_count": 37,
      "id": "quick-sellers",
      "metadata": {
        "colab": {
          "base_uri": "https://localhost:8080/"
        },
        "id": "quick-sellers",
        "outputId": "0a60ccf5-4b48-443b-90da-43be87b49dac",
        "tags": []
      },
      "outputs": [
        {
          "output_type": "stream",
          "name": "stdout",
          "text": [
            "The Area Under the Naive Bayes ROC Curve is: 0.9840734319896394\n"
          ]
        }
      ],
      "source": [
        "# calculate the area under the curve\n",
        "print('The Area Under the Naive Bayes ROC Curve is:', roc_auc_score(y_test, y_proba_nb))"
      ]
    },
    {
      "cell_type": "code",
      "execution_count": 38,
      "id": "exposed-wings",
      "metadata": {
        "colab": {
          "base_uri": "https://localhost:8080/"
        },
        "id": "exposed-wings",
        "outputId": "9cf498f2-e0ef-4854-a9a2-3728e439a362",
        "tags": []
      },
      "outputs": [
        {
          "output_type": "stream",
          "name": "stdout",
          "text": [
            "5-fold CV scores:' [0.81514941 0.96699097 0.95309243 0.9558568  0.91310393]\n",
            "This results in a mean accuracy of 0.9208 with standard deviation of 0.0559\n"
          ]
        }
      ],
      "source": [
        "# perform k-fold cross-validation\n",
        "cv_nb = cross_val_score(model_nb, X, y, cv=5)\n",
        "print(\"5-fold CV scores:'\", cv_nb)\n",
        "print('This results in a mean accuracy of %.4f' % cv_nb.mean(), 'with standard deviation of %.4f' % cv_nb.std())"
      ]
    },
    {
      "cell_type": "code",
      "execution_count": 39,
      "id": "junior-harvey",
      "metadata": {
        "id": "junior-harvey",
        "tags": []
      },
      "outputs": [],
      "source": [
        "# with open('/content/drive/MyDrive/Models/Naive Bayes ' + str(datetime.now()), 'wb') as filepath:\n",
        "#     pickle.dump(model_nb,filepath)"
      ]
    },
    {
      "cell_type": "markdown",
      "id": "narrow-swing",
      "metadata": {
        "id": "narrow-swing"
      },
      "source": [
        "**2. Support Vector Classification**"
      ]
    },
    {
      "cell_type": "code",
      "execution_count": 40,
      "id": "controversial-union",
      "metadata": {
        "colab": {
          "base_uri": "https://localhost:8080/"
        },
        "id": "controversial-union",
        "outputId": "25a85022-845f-4fd6-c7e3-9e47a73db943",
        "scrolled": true
      },
      "outputs": [
        {
          "output_type": "stream",
          "name": "stdout",
          "text": [
            "Model Training time: 41.07869338989258 seconds\n",
            "Best parameters:  {'svc__kernel': 'poly'}\n",
            "Accuracy:  0.9801945795691452\n"
          ]
        }
      ],
      "source": [
        "from sklearn.svm import SVC\n",
        "\n",
        "# parameter grid of different hyperparameters to be tuned\n",
        "param_grid = {'svc__kernel': ('linear', 'poly')}\n",
        "\n",
        "# create a pipe that applies the StandardScaler() to the data when training/testing\n",
        "pipe_svc = make_pipeline(StandardScaler(),\n",
        "                         SVC(probability=True))\n",
        "\n",
        "# instantiate an instance of GridSearchCV that, when fitting, will cycle through the parameter grid and choose the best classification model\n",
        "model_svc = GridSearchCV(estimator = pipe_svc, param_grid=param_grid)\n",
        "\n",
        "# track how long it takes to train the model\n",
        "start_time = time.time()\n",
        "\n",
        "# fit the model to our data\n",
        "model_svc.fit(X_train, y_train)\n",
        "\n",
        "svc_training_time = time.time() - start_time\n",
        "\n",
        "# output the training time, best chosen parameters and the model's accuracy on the testing subset\n",
        "print('Model Training time:', svc_training_time, 'seconds')\n",
        "print('Best parameters: ', model_svc.best_params_)\n",
        "print('Accuracy: ', model_svc.score(X_test, y_test))"
      ]
    },
    {
      "cell_type": "code",
      "execution_count": 41,
      "id": "fourth-fishing",
      "metadata": {
        "colab": {
          "base_uri": "https://localhost:8080/",
          "height": 470
        },
        "id": "fourth-fishing",
        "outputId": "ab60ee6d-c1f2-4ac2-8c02-d946de744e33"
      },
      "outputs": [
        {
          "output_type": "execute_result",
          "data": {
            "text/plain": [
              "<sklearn.metrics._plot.confusion_matrix.ConfusionMatrixDisplay at 0x78946d3f63e0>"
            ]
          },
          "metadata": {},
          "execution_count": 41
        },
        {
          "output_type": "display_data",
          "data": {
            "text/plain": [
              "<Figure size 640x480 with 2 Axes>"
            ],
            "image/png": "[encoded data removed]"
          },
          "metadata": {}
        }
      ],
      "source": [
        "# calculate the model's prediction labels of the test data\n",
        "y_pred_svc = model_svc.predict(X_test)\n",
        "\n",
        "# create a normalised confusion matrix comparing predictions to actual y_test values\n",
        "cm_svc = confusion_matrix(y_test, y_pred_svc, normalize='all')\n",
        "\n",
        "# plot confusion matrix\n",
        "ConfusionMatrixDisplay(cm_svc).plot()"
      ]
    },
    {
      "cell_type": "code",
      "execution_count": 42,
      "id": "persistent-willow",
      "metadata": {
        "colab": {
          "base_uri": "https://localhost:8080/"
        },
        "id": "persistent-willow",
        "outputId": "387c821d-34a5-42c3-ba3f-136c39d0b70f"
      },
      "outputs": [
        {
          "output_type": "stream",
          "name": "stdout",
          "text": [
            "              precision    recall  f1-score   support\n",
            "\n",
            "           0       0.98      0.95      0.97       831\n",
            "           1       0.98      0.99      0.99      2047\n",
            "\n",
            "    accuracy                           0.98      2878\n",
            "   macro avg       0.98      0.97      0.98      2878\n",
            "weighted avg       0.98      0.98      0.98      2878\n",
            "\n"
          ]
        }
      ],
      "source": [
        "# print classification report\n",
        "print(classification_report(y_test, y_pred_svc))"
      ]
    },
    {
      "cell_type": "code",
      "execution_count": 43,
      "id": "metric-fourth",
      "metadata": {
        "colab": {
          "base_uri": "https://localhost:8080/",
          "height": 472
        },
        "id": "metric-fourth",
        "outputId": "c91333a8-3aaa-4441-8ede-d2c8aeba6e39",
        "scrolled": true
      },
      "outputs": [
        {
          "output_type": "display_data",
          "data": {
            "text/plain": [
              "<Figure size 640x480 with 1 Axes>"
            ],
            "image/png": "[encoded data removed]"
          },
          "metadata": {}
        }
      ],
      "source": [
        "# SVC ROC Curve\n",
        "y_proba_svc = model_svc.predict_proba(X_test)[:,1]\n",
        "\n",
        "fpr, tpr, thresholds = roc_curve(y_test, y_proba_svc)\n",
        "\n",
        "plt.plot([0, 1], [0, 1], 'k--')\n",
        "plt.plot(fpr, tpr)\n",
        "plt.xlabel('False Positive Rate')\n",
        "plt.ylabel('True Positive Rate')\n",
        "plt.title('SVC ROC Curve')\n",
        "plt.show()"
      ]
    },
    {
      "cell_type": "code",
      "execution_count": 44,
      "id": "selected-secondary",
      "metadata": {
        "colab": {
          "base_uri": "https://localhost:8080/"
        },
        "id": "selected-secondary",
        "outputId": "f3e5f08e-3c28-4afb-e7c6-91102bdf9839"
      },
      "outputs": [
        {
          "output_type": "stream",
          "name": "stdout",
          "text": [
            "The Area Under the SVC ROC Curve is: 0.9910561492060523\n"
          ]
        }
      ],
      "source": [
        "# calculate the area under the curve\n",
        "print('The Area Under the SVC ROC Curve is:', roc_auc_score(y_test, y_proba_svc))"
      ]
    },
    {
      "cell_type": "code",
      "execution_count": 45,
      "id": "refined-disposition",
      "metadata": {
        "colab": {
          "base_uri": "https://localhost:8080/"
        },
        "id": "refined-disposition",
        "outputId": "e48b1b9b-3a03-474a-b5e8-798ef271ac12"
      },
      "outputs": [
        {
          "output_type": "stream",
          "name": "stdout",
          "text": [
            "5-fold CV scores: [0.96733843 0.98158443 0.98332175 0.98262079 0.97949253]\n",
            "This results in a mean accuracy of 0.9789 with standard deviation of 0.0059\n"
          ]
        }
      ],
      "source": [
        "# perform k-fold cross-validation\n",
        "cv_svc = cross_val_score(model_svc, X, y, cv=5)\n",
        "print(\"5-fold CV scores:\", cv_svc)\n",
        "print('This results in a mean accuracy of %.4f' % cv_svc.mean(), 'with standard deviation of %.4f' % cv_svc.std())"
      ]
    },
    {
      "cell_type": "code",
      "execution_count": 46,
      "id": "outdoor-shift",
      "metadata": {
        "id": "outdoor-shift"
      },
      "outputs": [],
      "source": [
        "# with open('/content/drive/MyDrive/Models/Support Vector Classification ' + str(datetime.now()), 'wb') as filepath:\n",
        "#     pickle.dump(model_svc,filepath)"
      ]
    },
    {
      "cell_type": "markdown",
      "id": "starting-hughes",
      "metadata": {
        "id": "starting-hughes"
      },
      "source": [
        "**3. k-Nearest Neghbours Classifier**"
      ]
    },
    {
      "cell_type": "code",
      "execution_count": 47,
      "id": "chubby-shower",
      "metadata": {
        "colab": {
          "base_uri": "https://localhost:8080/"
        },
        "id": "chubby-shower",
        "outputId": "65cf808c-9e0b-4971-a390-7acfdeca1c22"
      },
      "outputs": [
        {
          "output_type": "stream",
          "name": "stdout",
          "text": [
            "Model Training time: 7.680217266082764 seconds\n",
            "Best parameters:  {'kneighborsclassifier__n_neighbors': 3}\n",
            "Accuracy:  0.9840166782487839\n"
          ]
        }
      ],
      "source": [
        "from sklearn.neighbors import KNeighborsClassifier\n",
        "\n",
        "# parameter grid of different hyperparameters to be tuned\n",
        "param_grid = [{'kneighborsclassifier__n_neighbors':list(range(2,10))}]\n",
        "\n",
        "# create a pipe that applies the StandardScaler() to the data when training/testing\n",
        "pipe_knn = make_pipeline(StandardScaler(),\n",
        "                        KNeighborsClassifier())\n",
        "\n",
        "# instantiate an instance of GridSearchCV that, when fitting, will cycle through the parameter grid and choose the best classification model\n",
        "model_knn = GridSearchCV(estimator=pipe_knn, param_grid=param_grid)\n",
        "\n",
        "# track how long it takes to train the model\n",
        "start_time = time.time()\n",
        "\n",
        "# fit the model to our data\n",
        "model_knn.fit(X_train, y_train)\n",
        "\n",
        "knn_training_time = time.time() - start_time\n",
        "\n",
        "# output the training time, best chosen parameters and the model's accuracy on the testing subset\n",
        "print('Model Training time:', knn_training_time, 'seconds')\n",
        "print('Best parameters: ', model_knn.best_params_)\n",
        "print('Accuracy: ', model_knn.score(X_test, y_test))"
      ]
    },
    {
      "cell_type": "code",
      "execution_count": 48,
      "id": "stopped-collection",
      "metadata": {
        "colab": {
          "base_uri": "https://localhost:8080/",
          "height": 472
        },
        "id": "stopped-collection",
        "outputId": "57575434-bb2b-48a3-dc3f-2f31efffd487",
        "scrolled": true
      },
      "outputs": [
        {
          "output_type": "display_data",
          "data": {
            "text/plain": [
              "<Figure size 640x480 with 1 Axes>"
            ],
            "image/png": "[encoded data removed]"
          },
          "metadata": {}
        }
      ],
      "source": [
        "# calculate and plot model accuracy depdning on number of neighbours used\n",
        "neighbors = np.arange(2,10)\n",
        "train_accuracy = np.empty(len(neighbors))\n",
        "test_accuracy = np.empty(len(neighbors))\n",
        "\n",
        "for i, k in enumerate(neighbors):\n",
        "    knn = make_pipeline(StandardScaler(),\n",
        "                        KNeighborsClassifier(n_neighbors=k))\n",
        "    knn.fit(X_train, y_train)\n",
        "    train_accuracy[i] = knn.score(X_train, y_train)\n",
        "    test_accuracy[i] = knn.score(X_test, y_test)\n",
        "\n",
        "plt.title('k-NN: Varying Number of Neighbors')\n",
        "plt.plot(neighbors, test_accuracy, label = 'Testing Accuracy')\n",
        "plt.plot(neighbors, train_accuracy, label = 'Training Accuracy')\n",
        "plt.legend()\n",
        "plt.xlabel('Number of Neighbors')\n",
        "plt.ylabel('Accuracy')\n",
        "plt.show()"
      ]
    },
    {
      "cell_type": "code",
      "execution_count": 49,
      "id": "quiet-saturn",
      "metadata": {
        "colab": {
          "base_uri": "https://localhost:8080/",
          "height": 472
        },
        "id": "quiet-saturn",
        "outputId": "2032f678-f1b8-4422-e6fa-4202833f9622"
      },
      "outputs": [
        {
          "output_type": "execute_result",
          "data": {
            "text/plain": [
              "<sklearn.metrics._plot.confusion_matrix.ConfusionMatrixDisplay at 0x789475525fc0>"
            ]
          },
          "metadata": {},
          "execution_count": 49
        },
        {
          "output_type": "display_data",
          "data": {
            "text/plain": [
              "<Figure size 640x480 with 2 Axes>"
            ],
            "image/png": "[encoded data removed]"
          },
          "metadata": {}
        }
      ],
      "source": [
        "# calculate the model's prediction labels of the test data\n",
        "y_pred_knn = model_knn.predict(X_test)\n",
        "\n",
        "# create a normalised confusion matrix comparing predictions to actual y_test values\n",
        "cm_knn = confusion_matrix(y_test, y_pred_knn, normalize='all')\n",
        "\n",
        "# plot confusion matrix\n",
        "ConfusionMatrixDisplay(cm_knn).plot()"
      ]
    },
    {
      "cell_type": "code",
      "execution_count": 50,
      "id": "potential-screening",
      "metadata": {
        "colab": {
          "base_uri": "https://localhost:8080/"
        },
        "id": "potential-screening",
        "outputId": "e3945280-2d22-4797-cc4d-a0da0c22b904",
        "scrolled": true
      },
      "outputs": [
        {
          "output_type": "stream",
          "name": "stdout",
          "text": [
            "              precision    recall  f1-score   support\n",
            "\n",
            "           0       0.97      0.98      0.97       831\n",
            "           1       0.99      0.99      0.99      2047\n",
            "\n",
            "    accuracy                           0.98      2878\n",
            "   macro avg       0.98      0.98      0.98      2878\n",
            "weighted avg       0.98      0.98      0.98      2878\n",
            "\n"
          ]
        }
      ],
      "source": [
        "# print classification report\n",
        "print(classification_report(y_test, y_pred_knn))"
      ]
    },
    {
      "cell_type": "code",
      "execution_count": 51,
      "id": "asian-scholarship",
      "metadata": {
        "colab": {
          "base_uri": "https://localhost:8080/",
          "height": 472
        },
        "id": "asian-scholarship",
        "outputId": "20f4db04-dce4-4336-a31f-93dea6cd47e2"
      },
      "outputs": [
        {
          "output_type": "display_data",
          "data": {
            "text/plain": [
              "<Figure size 640x480 with 1 Axes>"
            ],
            "image/png": "[encoded data removed]"
          },
          "metadata": {}
        }
      ],
      "source": [
        "# kNN ROC Curve\n",
        "y_proba_knn = knn.predict_proba(X_test)[:,1]\n",
        "\n",
        "fpr, tpr, thresholds = roc_curve(y_test, y_proba_knn)\n",
        "\n",
        "plt.plot([0, 1], [0, 1], 'k--')\n",
        "plt.plot(fpr, tpr)\n",
        "plt.xlabel('False Positive Rate')\n",
        "plt.ylabel('True Positive Rate')\n",
        "plt.title('kNN ROC Curve')\n",
        "plt.show()"
      ]
    },
    {
      "cell_type": "code",
      "execution_count": 52,
      "id": "original-state",
      "metadata": {
        "colab": {
          "base_uri": "https://localhost:8080/"
        },
        "id": "original-state",
        "outputId": "b1d56389-d176-4122-9cca-7ce001b8a659"
      },
      "outputs": [
        {
          "output_type": "stream",
          "name": "stdout",
          "text": [
            "The Area Under the kNN ROC Curve is: 0.9954851601092733\n"
          ]
        }
      ],
      "source": [
        "# calculate the area under the curve\n",
        "print('The Area Under the kNN ROC Curve is:', roc_auc_score(y_test, y_proba_knn))"
      ]
    },
    {
      "cell_type": "code",
      "execution_count": 53,
      "id": "opposite-rotation",
      "metadata": {
        "colab": {
          "base_uri": "https://localhost:8080/"
        },
        "id": "opposite-rotation",
        "outputId": "a12cba27-727d-4ca5-b73b-1b3ae69ce37f"
      },
      "outputs": [
        {
          "output_type": "stream",
          "name": "stdout",
          "text": [
            "5-fold CV scores: [0.94961779 0.98818624 0.98505907 0.99061522 0.98157803]\n",
            "This results in a mean accuracy of 0.9790 with standard deviation of 0.0150\n"
          ]
        }
      ],
      "source": [
        "# perform k-fold cross-validation\n",
        "cv_knn = cross_val_score(model_knn, X, y, cv=5)\n",
        "print(\"5-fold CV scores:\", cv_knn)\n",
        "print('This results in a mean accuracy of %.4f' % cv_knn.mean(), 'with standard deviation of %.4f' % cv_knn.std())"
      ]
    },
    {
      "cell_type": "code",
      "source": [
        "# display the importance of each feature for the kNN Classification\n",
        "from sklearn.inspection import permutation_importance\n",
        "\n",
        "results = permutation_importance(model_knn, X, y, scoring='accuracy')\n",
        "\n",
        "features = X.columns\n",
        "importances = results.importances_mean\n",
        "indices = np.argsort(importances)\n",
        "\n",
        "plt.title('Feature Importances')\n",
        "plt.barh(range(len(indices)), importances[indices], align='center')\n",
        "plt.yticks(range(len(indices)), features[indices])\n",
        "plt.xlabel('Relative Importance')\n",
        "plt.show()"
      ],
      "metadata": {
        "colab": {
          "base_uri": "https://localhost:8080/",
          "height": 472
        },
        "id": "NEpCLD1VOtVz",
        "outputId": "27f98a12-44ca-4890-ff21-9ba0d3561d7d"
      },
      "id": "NEpCLD1VOtVz",
      "execution_count": 54,
      "outputs": [
        {
          "output_type": "display_data",
          "data": {
            "text/plain": [
              "<Figure size 640x480 with 1 Axes>"
            ],
            "image/png": "[encoded data removed]"
          },
          "metadata": {}
        }
      ]
    },
    {
      "cell_type": "code",
      "execution_count": 55,
      "id": "israeli-light",
      "metadata": {
        "id": "israeli-light"
      },
      "outputs": [],
      "source": [
        "# with open('/content/drive/MyDrive/Models/k Nearest Neighbors ' + str(datetime.now()), 'wb') as filepath:\n",
        "#     pickle.dump(model_knn,filepath)"
      ]
    },
    {
      "cell_type": "markdown",
      "id": "answering-entertainment",
      "metadata": {
        "id": "answering-entertainment"
      },
      "source": [
        "**4. Decision Tree Classification**"
      ]
    },
    {
      "cell_type": "code",
      "execution_count": 56,
      "id": "korean-player",
      "metadata": {
        "colab": {
          "base_uri": "https://localhost:8080/"
        },
        "id": "korean-player",
        "outputId": "e6a81015-9c84-4d80-c8fb-761ea0e6df21"
      },
      "outputs": [
        {
          "output_type": "stream",
          "name": "stdout",
          "text": [
            "Model Training time: 8.967887163162231 seconds\n",
            "Best parameters:  {'decisiontreeclassifier__criterion': 'entropy', 'decisiontreeclassifier__max_depth': 14}\n",
            "Accuracy:  0.9885337039610841\n"
          ]
        }
      ],
      "source": [
        "from sklearn.tree import DecisionTreeClassifier\n",
        "\n",
        "# parameter grid of different hyperparameters to be tuned\n",
        "param_grid = [{'decisiontreeclassifier__max_depth': list(range(2, 16)),\n",
        "              'decisiontreeclassifier__criterion': [\"gini\", \"entropy\"]}]\n",
        "\n",
        "# create a pipe that applies the StandardScaler() to the data when training/testing\n",
        "pipe_dt = make_pipeline(StandardScaler(),\n",
        "                        DecisionTreeClassifier())\n",
        "\n",
        "# instantiate an instance of GridSearchCV that, when fitting, will cycle through the parameter grid and choose the best classification model\n",
        "model_dt = GridSearchCV(estimator = pipe_dt, param_grid=param_grid)\n",
        "\n",
        "# track how long it takes to train the model\n",
        "start_time = time.time()\n",
        "\n",
        "# fit the model to our data\n",
        "model_dt.fit(X_train, y_train)\n",
        "\n",
        "dt_training_time = time.time() - start_time\n",
        "\n",
        "# output the training time, best chosen parameters and the model's accuracy on the testing subset\n",
        "print('Model Training time:', dt_training_time, 'seconds')\n",
        "print('Best parameters: ', model_dt.best_params_)\n",
        "print('Accuracy: ', model_dt.score(X_test, y_test))"
      ]
    },
    {
      "cell_type": "code",
      "execution_count": 57,
      "id": "precious-mechanics",
      "metadata": {
        "colab": {
          "base_uri": "https://localhost:8080/",
          "height": 470
        },
        "id": "precious-mechanics",
        "outputId": "06ea7f08-439b-4c01-9adc-e1a88fe8232c"
      },
      "outputs": [
        {
          "output_type": "execute_result",
          "data": {
            "text/plain": [
              "<sklearn.metrics._plot.confusion_matrix.ConfusionMatrixDisplay at 0x78946cf39c00>"
            ]
          },
          "metadata": {},
          "execution_count": 57
        },
        {
          "output_type": "display_data",
          "data": {
            "text/plain": [
              "<Figure size 640x480 with 2 Axes>"
            ],
            "image/png": "[encoded data removed]"
          },
          "metadata": {}
        }
      ],
      "source": [
        "# calculate the model's prediction labels of the test data\n",
        "y_pred_dt = model_dt.predict(X_test)\n",
        "\n",
        "# create a normalised confusion matrix comparing predictions to actual y_test values\n",
        "cm_dt = confusion_matrix(y_test, y_pred_dt, normalize='all')\n",
        "\n",
        "# plot confusion matrix\n",
        "ConfusionMatrixDisplay(cm_dt).plot()"
      ]
    },
    {
      "cell_type": "code",
      "execution_count": 58,
      "id": "funny-sacrifice",
      "metadata": {
        "colab": {
          "base_uri": "https://localhost:8080/"
        },
        "id": "funny-sacrifice",
        "outputId": "dbe47668-52af-447e-d61c-e658636170be",
        "scrolled": true
      },
      "outputs": [
        {
          "output_type": "stream",
          "name": "stdout",
          "text": [
            "              precision    recall  f1-score   support\n",
            "\n",
            "           0       0.98      0.98      0.98       831\n",
            "           1       0.99      0.99      0.99      2047\n",
            "\n",
            "    accuracy                           0.99      2878\n",
            "   macro avg       0.99      0.99      0.99      2878\n",
            "weighted avg       0.99      0.99      0.99      2878\n",
            "\n"
          ]
        }
      ],
      "source": [
        "# print classification report\n",
        "print(classification_report(y_test, y_pred_dt))"
      ]
    },
    {
      "cell_type": "code",
      "execution_count": 59,
      "id": "major-vision",
      "metadata": {
        "colab": {
          "base_uri": "https://localhost:8080/",
          "height": 472
        },
        "id": "major-vision",
        "outputId": "cfb4ef01-7905-4dd0-89bb-0b4d268a2927"
      },
      "outputs": [
        {
          "output_type": "display_data",
          "data": {
            "text/plain": [
              "<Figure size 640x480 with 1 Axes>"
            ],
            "image/png": "[encoded data removed]"
          },
          "metadata": {}
        }
      ],
      "source": [
        "# plot Decision Tree ROC Curve\n",
        "y_proba_dt = model_dt.predict_proba(X_test)[:,1]\n",
        "\n",
        "fpr, tpr, thresholds = roc_curve(y_test, y_proba_dt)\n",
        "\n",
        "plt.plot([0, 1], [0, 1], 'k--')\n",
        "plt.plot(fpr, tpr)\n",
        "plt.xlabel('False Positive Rate')\n",
        "plt.ylabel('True Positive Rate')\n",
        "plt.title('Decision Tree ROC Curve')\n",
        "plt.show()"
      ]
    },
    {
      "cell_type": "code",
      "execution_count": 60,
      "id": "artificial-senator",
      "metadata": {
        "colab": {
          "base_uri": "https://localhost:8080/"
        },
        "id": "artificial-senator",
        "outputId": "29f9fc5c-b578-4bc7-e350-3bbf56a99eff"
      },
      "outputs": [
        {
          "output_type": "stream",
          "name": "stdout",
          "text": [
            "The Area Under the DT ROC Curve is: 0.9899976896717747\n"
          ]
        }
      ],
      "source": [
        "# calculate the area under the curve\n",
        "print('The Area Under the DT ROC Curve is:', roc_auc_score(y_test, y_proba_dt))"
      ]
    },
    {
      "cell_type": "code",
      "execution_count": 61,
      "id": "coastal-listing",
      "metadata": {
        "colab": {
          "base_uri": "https://localhost:8080/"
        },
        "id": "coastal-listing",
        "outputId": "f3eacd07-1084-4bb0-f3d5-93393ee4ac96"
      },
      "outputs": [
        {
          "output_type": "stream",
          "name": "stdout",
          "text": [
            "5-fold CV scores: [0.96733843 0.98158443 0.98332175 0.98262079 0.97949253]\n",
            "This results in a mean accuracy of 0.9793 with standard deviation of 0.0114\n"
          ]
        }
      ],
      "source": [
        "# perform k-fold cross-validation\n",
        "cv_dt = cross_val_score(model_dt, X, y, cv=5)\n",
        "print(\"5-fold CV scores:\", cv_svc)\n",
        "print('This results in a mean accuracy of %.4f' % cv_dt.mean(), 'with standard deviation of %.4f' % cv_dt.std())"
      ]
    },
    {
      "cell_type": "code",
      "execution_count": 62,
      "id": "asian-ebony",
      "metadata": {
        "id": "asian-ebony"
      },
      "outputs": [],
      "source": [
        "# with open('/content/drive/MyDrive/Models/Decision Tree ' + str(datetime.now()), 'wb') as filepath:\n",
        "#     pickle.dump(model_dt,filepath)"
      ]
    },
    {
      "cell_type": "markdown",
      "id": "boring-night",
      "metadata": {
        "id": "boring-night"
      },
      "source": [
        "**5. Random Forest Classifier**"
      ]
    },
    {
      "cell_type": "code",
      "execution_count": 63,
      "id": "proof-jackson",
      "metadata": {
        "colab": {
          "base_uri": "https://localhost:8080/"
        },
        "id": "proof-jackson",
        "outputId": "427426c1-b07e-487d-df87-3befda4eedb9"
      },
      "outputs": [
        {
          "output_type": "stream",
          "name": "stdout",
          "text": [
            "Model Training time: 146.00977563858032 seconds\n",
            "Best parameters:  {'randomforestclassifier__criterion': 'entropy', 'randomforestclassifier__max_depth': 14}\n",
            "Accuracy:  0.9947880472550382\n"
          ]
        }
      ],
      "source": [
        "from sklearn.ensemble import RandomForestClassifier\n",
        "\n",
        "# parameter grid of different hyperparameters to be tuned\n",
        "param_grid = [{'randomforestclassifier__max_depth': list(range(2, 16)),\n",
        "               'randomforestclassifier__criterion': [\"gini\", \"entropy\"]}]\n",
        "\n",
        "# create a pipe that applies the StandardScaler() to the data when training/testing\n",
        "pipe_rf = make_pipeline(StandardScaler(),\n",
        "                        RandomForestClassifier())\n",
        "\n",
        "# instantiate an instance of GridSearchCV that, when fitting, will cycle through the parameter grid and choose the best classification model\n",
        "model_rf = GridSearchCV(estimator=pipe_rf, param_grid=param_grid)\n",
        "\n",
        "# track how long it takes to train the model\n",
        "start_time = time.time()\n",
        "\n",
        "# fit the model to our data\n",
        "model_rf.fit(X_train, y_train)\n",
        "\n",
        "rf_training_time = time.time() - start_time\n",
        "\n",
        "# output the training time, best chosen parameters and the model's accuracy on the testing subset\n",
        "print('Model Training time:', rf_training_time, 'seconds')\n",
        "print('Best parameters: ', model_rf.best_params_)\n",
        "print('Accuracy: ', model_rf.score(X_test, y_test))"
      ]
    },
    {
      "cell_type": "code",
      "execution_count": 64,
      "id": "developmental-corrections",
      "metadata": {
        "colab": {
          "base_uri": "https://localhost:8080/",
          "height": 468
        },
        "id": "developmental-corrections",
        "outputId": "1d640c5f-bb9e-4537-f96f-536f76e321db"
      },
      "outputs": [
        {
          "output_type": "execute_result",
          "data": {
            "text/plain": [
              "<sklearn.metrics._plot.confusion_matrix.ConfusionMatrixDisplay at 0x78946c477910>"
            ]
          },
          "metadata": {},
          "execution_count": 64
        },
        {
          "output_type": "display_data",
          "data": {
            "text/plain": [
              "<Figure size 640x480 with 2 Axes>"
            ],
            "image/png": "[encoded data removed]"
          },
          "metadata": {}
        }
      ],
      "source": [
        "# calculate the model's prediction labels of the test data\n",
        "y_pred_rf = model_rf.predict(X_test)\n",
        "\n",
        "# create a normalised confusion matrix comparing predictions to actual y_test values\n",
        "cm_rf = confusion_matrix(y_test, y_pred_rf, normalize='all')\n",
        "\n",
        "# plot confusion matrix\n",
        "ConfusionMatrixDisplay(cm_rf).plot()"
      ]
    },
    {
      "cell_type": "code",
      "execution_count": 65,
      "id": "patient-waste",
      "metadata": {
        "colab": {
          "base_uri": "https://localhost:8080/"
        },
        "id": "patient-waste",
        "outputId": "ce34f11a-9126-4915-8d0a-a2fa27b48a05"
      },
      "outputs": [
        {
          "output_type": "stream",
          "name": "stdout",
          "text": [
            "              precision    recall  f1-score   support\n",
            "\n",
            "           0       0.99      0.99      0.99       831\n",
            "           1       1.00      1.00      1.00      2047\n",
            "\n",
            "    accuracy                           0.99      2878\n",
            "   macro avg       0.99      0.99      0.99      2878\n",
            "weighted avg       0.99      0.99      0.99      2878\n",
            "\n"
          ]
        }
      ],
      "source": [
        "# print classification report\n",
        "print(classification_report(y_test, y_pred_rf))"
      ]
    },
    {
      "cell_type": "code",
      "execution_count": 66,
      "id": "careful-smooth",
      "metadata": {
        "colab": {
          "base_uri": "https://localhost:8080/",
          "height": 472
        },
        "id": "careful-smooth",
        "outputId": "cf595cea-3ace-430e-9bdf-0a30a37c1668"
      },
      "outputs": [
        {
          "output_type": "display_data",
          "data": {
            "text/plain": [
              "<Figure size 640x480 with 1 Axes>"
            ],
            "image/png": "[encoded data removed]"
          },
          "metadata": {}
        }
      ],
      "source": [
        "# plot Random Forest ROC Curve\n",
        "y_proba_rf = model_rf.predict_proba(X_test)[:,1]\n",
        "\n",
        "fpr, tpr, thresholds = roc_curve(y_test, y_proba_rf)\n",
        "\n",
        "plt.plot([0, 1], [0, 1], 'k--')\n",
        "plt.plot(fpr, tpr)\n",
        "plt.xlabel('False Positive Rate')\n",
        "plt.ylabel('True Positive Rate')\n",
        "plt.title('Random Forest ROC Curve')\n",
        "plt.show()"
      ]
    },
    {
      "cell_type": "code",
      "execution_count": 67,
      "id": "private-equipment",
      "metadata": {
        "colab": {
          "base_uri": "https://localhost:8080/"
        },
        "id": "private-equipment",
        "outputId": "68c29100-a0d8-46df-91a6-f6c504af60ad"
      },
      "outputs": [
        {
          "output_type": "stream",
          "name": "stdout",
          "text": [
            "The Area Under the RF ROC Curve is: 0.9997013621530614\n"
          ]
        }
      ],
      "source": [
        "# calculate the area under the curve\n",
        "print('The Area Under the RF ROC Curve is:', roc_auc_score(y_test, y_proba_rf))"
      ]
    },
    {
      "cell_type": "code",
      "execution_count": 68,
      "id": "solid-intranet",
      "metadata": {
        "colab": {
          "base_uri": "https://localhost:8080/"
        },
        "id": "solid-intranet",
        "outputId": "5463b347-ffea-4add-cc9b-575b1106592d"
      },
      "outputs": [
        {
          "output_type": "stream",
          "name": "stdout",
          "text": [
            "5-fold CV scores: [0.9819319  0.99478805 0.98922863 0.99617657 0.99443865]\n",
            "This results in a mean accuracy of 0.9913 with standard deviation of 0.0053\n"
          ]
        }
      ],
      "source": [
        "# perform k-fold cross-validation\n",
        "cv_rf = cross_val_score(model_rf, X, y, cv=5)\n",
        "print(\"5-fold CV scores:\", cv_rf)\n",
        "print('This results in a mean accuracy of %.4f' % cv_rf.mean(), 'with standard deviation of %.4f' % cv_rf.std())"
      ]
    },
    {
      "cell_type": "code",
      "source": [
        "# display the importance of each feature for the kNN Classification\n",
        "results = permutation_importance(model_rf, X, y, scoring='accuracy')\n",
        "features = X.columns\n",
        "importances = results.importances_mean\n",
        "indices = np.argsort(importances)\n",
        "\n",
        "plt.title('Feature Importances')\n",
        "plt.barh(range(len(indices)), importances[indices], align='center')\n",
        "plt.yticks(range(len(indices)), features[indices])\n",
        "plt.xlabel('Relative Importance')\n",
        "plt.show()"
      ],
      "metadata": {
        "colab": {
          "base_uri": "https://localhost:8080/",
          "height": 472
        },
        "id": "UrNlE3TVPe6y",
        "outputId": "9c514635-430b-4f64-e9ff-3a6f4c5c12de"
      },
      "id": "UrNlE3TVPe6y",
      "execution_count": 69,
      "outputs": [
        {
          "output_type": "display_data",
          "data": {
            "text/plain": [
              "<Figure size 640x480 with 1 Axes>"
            ],
            "image/png": "[encoded data removed]"
          },
          "metadata": {}
        }
      ]
    },
    {
      "cell_type": "code",
      "execution_count": 70,
      "id": "final-guess",
      "metadata": {
        "id": "final-guess"
      },
      "outputs": [],
      "source": [
        "# with open('/content/drive/MyDrive/Models/Random Forest ' + str(datetime.now()), 'wb') as filepath:\n",
        "#     pickle.dump(model_rf,filepath)"
      ]
    },
    {
      "cell_type": "markdown",
      "id": "corrected-reduction",
      "metadata": {
        "id": "corrected-reduction"
      },
      "source": [
        "**Further testing on IWSPA No Header Subset**"
      ]
    },
    {
      "cell_type": "code",
      "execution_count": 72,
      "id": "given-remedy",
      "metadata": {
        "colab": {
          "base_uri": "https://localhost:8080/",
          "height": 502
        },
        "id": "given-remedy",
        "outputId": "214d54b1-ce14-4e58-817b-af13c5f5dfb3",
        "scrolled": true
      },
      "outputs": [
        {
          "output_type": "execute_result",
          "data": {
            "text/plain": [
              "      phishing  header-size  count-to  count-received  count-cc  count-bcc  \\\n",
              "0            0           49         0               0         0          0   \n",
              "1            0           49         0               0         0          0   \n",
              "2            0           49         0               0         0          0   \n",
              "3            0           49         0               0         0          0   \n",
              "4            0           49         0               0         0          0   \n",
              "...        ...          ...       ...             ...       ...        ...   \n",
              "5716         1          159         1               0         0          0   \n",
              "5717         1           90         0               0         0          0   \n",
              "5718         1           49         0               0         0          0   \n",
              "5719         1           49         0               0         0          0   \n",
              "5720         1          103         0               0         0          0   \n",
              "\n",
              "      same-id-sender  same-return-sender  subject-word-count  \\\n",
              "0               True                True                   0   \n",
              "1               True                True                   0   \n",
              "2               True                True                   0   \n",
              "3               True                True                   0   \n",
              "4               True                True                   0   \n",
              "...              ...                 ...                 ...   \n",
              "5716            True                True                   3   \n",
              "5717            True                True                   4   \n",
              "5718            True                True                   0   \n",
              "5719            True                True                   0   \n",
              "5720            True                True                   2   \n",
              "\n",
              "      subject-distinct-word-count  ...  body-word-count  \\\n",
              "0                               0  ...               61   \n",
              "1                               0  ...               54   \n",
              "2                               0  ...              185   \n",
              "3                               0  ...               33   \n",
              "4                               0  ...              126   \n",
              "...                           ...  ...              ...   \n",
              "5716                            3  ...                1   \n",
              "5717                            4  ...               35   \n",
              "5718                            0  ...               14   \n",
              "5719                            0  ...               81   \n",
              "5720                            2  ...               46   \n",
              "\n",
              "      body-distint-word-count  body-richness  body-function-word-count  \\\n",
              "0                          47       0.245968                         0   \n",
              "1                          40       0.181818                         0   \n",
              "2                         124       0.227552                         2   \n",
              "3                          25       0.215686                         0   \n",
              "4                          86       0.217993                         1   \n",
              "...                       ...            ...                       ...   \n",
              "5716                        1       0.166667                         0   \n",
              "5717                       31       0.209581                         1   \n",
              "5718                       14       0.181818                         1   \n",
              "5719                       59       0.184932                         3   \n",
              "5720                       40       0.221154                         1   \n",
              "\n",
              "      has-html  has-form  difference-measure  difference-measure-unique  \\\n",
              "0        False     False                   0                     147656   \n",
              "1        False     False                   0                      88758   \n",
              "2         True     False                   0                     186438   \n",
              "3         True     False                   0                      29726   \n",
              "4        False     False                   6                     180009   \n",
              "...        ...       ...                 ...                        ...   \n",
              "5716     False     False                   0                      15657   \n",
              "5717     False     False                 115                     135071   \n",
              "5718     False     False                  55                      32658   \n",
              "5719      True     False                1840                     155928   \n",
              "5720     False     False                 844                     143230   \n",
              "\n",
              "      phishing-ratio  phishing-ratio-unique  \n",
              "0           2.576195              23.313646  \n",
              "1           1.815919              14.430322  \n",
              "2           5.259212              41.775256  \n",
              "3           0.427229               3.318847  \n",
              "4           6.045928              35.185558  \n",
              "...              ...                    ...  \n",
              "5716        1.121533               3.600680  \n",
              "5717        5.667323              23.479154  \n",
              "5718        3.616218               9.817490  \n",
              "5719       22.926205              41.106934  \n",
              "5720       10.741457              28.249763  \n",
              "\n",
              "[5721 rows x 26 columns]"
            ],
            "text/html": [
              "\n",
              "\n",
              "  <div id=\"df-5aa0f146-6960-4418-82f1-1d23cc4e5b4d\">\n",
              "    <div class=\"colab-df-container\">\n",
              "      <div>\n",
              "<style scoped>\n",
              "    .dataframe tbody tr th:only-of-type {\n",
              "        vertical-align: middle;\n",
              "    }\n",
              "\n",
              "    .dataframe tbody tr th {\n",
              "        vertical-align: top;\n",
              "    }\n",
              "\n",
              "    .dataframe thead th {\n",
              "        text-align: right;\n",
              "    }\n",
              "</style>\n",
              "<table border=\"1\" class=\"dataframe\">\n",
              "  <thead>\n",
              "    <tr style=\"text-align: right;\">\n",
              "      <th></th>\n",
              "      <th>phishing</th>\n",
              "      <th>header-size</th>\n",
              "      <th>count-to</th>\n",
              "      <th>count-received</th>\n",
              "      <th>count-cc</th>\n",
              "      <th>count-bcc</th>\n",
              "      <th>same-id-sender</th>\n",
              "      <th>same-return-sender</th>\n",
              "      <th>subject-word-count</th>\n",
              "      <th>subject-distinct-word-count</th>\n",
              "      <th>...</th>\n",
              "      <th>body-word-count</th>\n",
              "      <th>body-distint-word-count</th>\n",
              "      <th>body-richness</th>\n",
              "      <th>body-function-word-count</th>\n",
              "      <th>has-html</th>\n",
              "      <th>has-form</th>\n",
              "      <th>difference-measure</th>\n",
              "      <th>difference-measure-unique</th>\n",
              "      <th>phishing-ratio</th>\n",
              "      <th>phishing-ratio-unique</th>\n",
              "    </tr>\n",
              "  </thead>\n",
              "  <tbody>\n",
              "    <tr>\n",
              "      <th>0</th>\n",
              "      <td>0</td>\n",
              "      <td>49</td>\n",
              "      <td>0</td>\n",
              "      <td>0</td>\n",
              "      <td>0</td>\n",
              "      <td>0</td>\n",
              "      <td>True</td>\n",
              "      <td>True</td>\n",
              "      <td>0</td>\n",
              "      <td>0</td>\n",
              "      <td>...</td>\n",
              "      <td>61</td>\n",
              "      <td>47</td>\n",
              "      <td>0.245968</td>\n",
              "      <td>0</td>\n",
              "      <td>False</td>\n",
              "      <td>False</td>\n",
              "      <td>0</td>\n",
              "      <td>147656</td>\n",
              "      <td>2.576195</td>\n",
              "      <td>23.313646</td>\n",
              "    </tr>\n",
              "    <tr>\n",
              "      <th>1</th>\n",
              "      <td>0</td>\n",
              "      <td>49</td>\n",
              "      <td>0</td>\n",
              "      <td>0</td>\n",
              "      <td>0</td>\n",
              "      <td>0</td>\n",
              "      <td>True</td>\n",
              "      <td>True</td>\n",
              "      <td>0</td>\n",
              "      <td>0</td>\n",
              "      <td>...</td>\n",
              "      <td>54</td>\n",
              "      <td>40</td>\n",
              "      <td>0.181818</td>\n",
              "      <td>0</td>\n",
              "      <td>False</td>\n",
              "      <td>False</td>\n",
              "      <td>0</td>\n",
              "      <td>88758</td>\n",
              "      <td>1.815919</td>\n",
              "      <td>14.430322</td>\n",
              "    </tr>\n",
              "    <tr>\n",
              "      <th>2</th>\n",
              "      <td>0</td>\n",
              "      <td>49</td>\n",
              "      <td>0</td>\n",
              "      <td>0</td>\n",
              "      <td>0</td>\n",
              "      <td>0</td>\n",
              "      <td>True</td>\n",
              "      <td>True</td>\n",
              "      <td>0</td>\n",
              "      <td>0</td>\n",
              "      <td>...</td>\n",
              "      <td>185</td>\n",
              "      <td>124</td>\n",
              "      <td>0.227552</td>\n",
              "      <td>2</td>\n",
              "      <td>True</td>\n",
              "      <td>False</td>\n",
              "      <td>0</td>\n",
              "      <td>186438</td>\n",
              "      <td>5.259212</td>\n",
              "      <td>41.775256</td>\n",
              "    </tr>\n",
              "    <tr>\n",
              "      <th>3</th>\n",
              "      <td>0</td>\n",
              "      <td>49</td>\n",
              "      <td>0</td>\n",
              "      <td>0</td>\n",
              "      <td>0</td>\n",
              "      <td>0</td>\n",
              "      <td>True</td>\n",
              "      <td>True</td>\n",
              "      <td>0</td>\n",
              "      <td>0</td>\n",
              "      <td>...</td>\n",
              "      <td>33</td>\n",
              "      <td>25</td>\n",
              "      <td>0.215686</td>\n",
              "      <td>0</td>\n",
              "      <td>True</td>\n",
              "      <td>False</td>\n",
              "      <td>0</td>\n",
              "      <td>29726</td>\n",
              "      <td>0.427229</td>\n",
              "      <td>3.318847</td>\n",
              "    </tr>\n",
              "    <tr>\n",
              "      <th>4</th>\n",
              "      <td>0</td>\n",
              "      <td>49</td>\n",
              "      <td>0</td>\n",
              "      <td>0</td>\n",
              "      <td>0</td>\n",
              "      <td>0</td>\n",
              "      <td>True</td>\n",
              "      <td>True</td>\n",
              "      <td>0</td>\n",
              "      <td>0</td>\n",
              "      <td>...</td>\n",
              "      <td>126</td>\n",
              "      <td>86</td>\n",
              "      <td>0.217993</td>\n",
              "      <td>1</td>\n",
              "      <td>False</td>\n",
              "      <td>False</td>\n",
              "      <td>6</td>\n",
              "      <td>180009</td>\n",
              "      <td>6.045928</td>\n",
              "      <td>35.185558</td>\n",
              "    </tr>\n",
              "    <tr>\n",
              "      <th>...</th>\n",
              "      <td>...</td>\n",
              "      <td>...</td>\n",
              "      <td>...</td>\n",
              "      <td>...</td>\n",
              "      <td>...</td>\n",
              "      <td>...</td>\n",
              "      <td>...</td>\n",
              "      <td>...</td>\n",
              "      <td>...</td>\n",
              "      <td>...</td>\n",
              "      <td>...</td>\n",
              "      <td>...</td>\n",
              "      <td>...</td>\n",
              "      <td>...</td>\n",
              "      <td>...</td>\n",
              "      <td>...</td>\n",
              "      <td>...</td>\n",
              "      <td>...</td>\n",
              "      <td>...</td>\n",
              "      <td>...</td>\n",
              "      <td>...</td>\n",
              "    </tr>\n",
              "    <tr>\n",
              "      <th>5716</th>\n",
              "      <td>1</td>\n",
              "      <td>159</td>\n",
              "      <td>1</td>\n",
              "      <td>0</td>\n",
              "      <td>0</td>\n",
              "      <td>0</td>\n",
              "      <td>True</td>\n",
              "      <td>True</td>\n",
              "      <td>3</td>\n",
              "      <td>3</td>\n",
              "      <td>...</td>\n",
              "      <td>1</td>\n",
              "      <td>1</td>\n",
              "      <td>0.166667</td>\n",
              "      <td>0</td>\n",
              "      <td>False</td>\n",
              "      <td>False</td>\n",
              "      <td>0</td>\n",
              "      <td>15657</td>\n",
              "      <td>1.121533</td>\n",
              "      <td>3.600680</td>\n",
              "    </tr>\n",
              "    <tr>\n",
              "      <th>5717</th>\n",
              "      <td>1</td>\n",
              "      <td>90</td>\n",
              "      <td>0</td>\n",
              "      <td>0</td>\n",
              "      <td>0</td>\n",
              "      <td>0</td>\n",
              "      <td>True</td>\n",
              "      <td>True</td>\n",
              "      <td>4</td>\n",
              "      <td>4</td>\n",
              "      <td>...</td>\n",
              "      <td>35</td>\n",
              "      <td>31</td>\n",
              "      <td>0.209581</td>\n",
              "      <td>1</td>\n",
              "      <td>False</td>\n",
              "      <td>False</td>\n",
              "      <td>115</td>\n",
              "      <td>135071</td>\n",
              "      <td>5.667323</td>\n",
              "      <td>23.479154</td>\n",
              "    </tr>\n",
              "    <tr>\n",
              "      <th>5718</th>\n",
              "      <td>1</td>\n",
              "      <td>49</td>\n",
              "      <td>0</td>\n",
              "      <td>0</td>\n",
              "      <td>0</td>\n",
              "      <td>0</td>\n",
              "      <td>True</td>\n",
              "      <td>True</td>\n",
              "      <td>0</td>\n",
              "      <td>0</td>\n",
              "      <td>...</td>\n",
              "      <td>14</td>\n",
              "      <td>14</td>\n",
              "      <td>0.181818</td>\n",
              "      <td>1</td>\n",
              "      <td>False</td>\n",
              "      <td>False</td>\n",
              "      <td>55</td>\n",
              "      <td>32658</td>\n",
              "      <td>3.616218</td>\n",
              "      <td>9.817490</td>\n",
              "    </tr>\n",
              "    <tr>\n",
              "      <th>5719</th>\n",
              "      <td>1</td>\n",
              "      <td>49</td>\n",
              "      <td>0</td>\n",
              "      <td>0</td>\n",
              "      <td>0</td>\n",
              "      <td>0</td>\n",
              "      <td>True</td>\n",
              "      <td>True</td>\n",
              "      <td>0</td>\n",
              "      <td>0</td>\n",
              "      <td>...</td>\n",
              "      <td>81</td>\n",
              "      <td>59</td>\n",
              "      <td>0.184932</td>\n",
              "      <td>3</td>\n",
              "      <td>True</td>\n",
              "      <td>False</td>\n",
              "      <td>1840</td>\n",
              "      <td>155928</td>\n",
              "      <td>22.926205</td>\n",
              "      <td>41.106934</td>\n",
              "    </tr>\n",
              "    <tr>\n",
              "      <th>5720</th>\n",
              "      <td>1</td>\n",
              "      <td>103</td>\n",
              "      <td>0</td>\n",
              "      <td>0</td>\n",
              "      <td>0</td>\n",
              "      <td>0</td>\n",
              "      <td>True</td>\n",
              "      <td>True</td>\n",
              "      <td>2</td>\n",
              "      <td>2</td>\n",
              "      <td>...</td>\n",
              "      <td>46</td>\n",
              "      <td>40</td>\n",
              "      <td>0.221154</td>\n",
              "      <td>1</td>\n",
              "      <td>False</td>\n",
              "      <td>False</td>\n",
              "      <td>844</td>\n",
              "      <td>143230</td>\n",
              "      <td>10.741457</td>\n",
              "      <td>28.249763</td>\n",
              "    </tr>\n",
              "  </tbody>\n",
              "</table>\n",
              "<p>5721 rows × 26 columns</p>\n",
              "</div>\n",
              "      <button class=\"colab-df-convert\" onclick=\"convertToInteractive('df-5aa0f146-6960-4418-82f1-1d23cc4e5b4d')\"\n",
              "              title=\"Convert this dataframe to an interactive table.\"\n",
              "              style=\"display:none;\">\n",
              "\n",
              "  <svg xmlns=\"http://www.w3.org/2000/svg\" height=\"24px\"viewBox=\"0 0 24 24\"\n",
              "       width=\"24px\">\n",
              "    <path d=\"M0 0h24v24H0V0z\" fill=\"none\"/>\n",
              "    <path d=\"M18.56 5.44l.94 2.06.94-2.06 2.06-.94-2.06-.94-.94-2.06-.94 2.06-2.06.94zm-11 1L8.5 8.5l.94-2.06 2.06-.94-2.06-.94L8.5 2.5l-.94 2.06-2.06.94zm10 10l.94 2.06.94-2.06 2.06-.94-2.06-.94-.94-2.06-.94 2.06-2.06.94z\"/><path d=\"M17.41 7.96l-1.37-1.37c-.4-.4-.92-.59-1.43-.59-.52 0-1.04.2-1.43.59L10.3 9.45l-7.72 7.72c-.78.78-.78 2.05 0 2.83L4 21.41c.39.39.9.59 1.41.59.51 0 1.02-.2 1.41-.59l7.78-7.78 2.81-2.81c.8-.78.8-2.07 0-2.86zM5.41 20L4 18.59l7.72-7.72 1.47 1.35L5.41 20z\"/>\n",
              "  </svg>\n",
              "      </button>\n",
              "\n",
              "\n",
              "\n",
              "    <div id=\"df-8e42f2a2-0cb4-4c22-9199-66f0dde40e02\">\n",
              "      <button class=\"colab-df-quickchart\" onclick=\"quickchart('df-8e42f2a2-0cb4-4c22-9199-66f0dde40e02')\"\n",
              "              title=\"Suggest charts.\"\n",
              "              style=\"display:none;\">\n",
              "\n",
              "<svg xmlns=\"http://www.w3.org/2000/svg\" height=\"24px\"viewBox=\"0 0 24 24\"\n",
              "     width=\"24px\">\n",
              "    <g>\n",
              "        <path d=\"M19 3H5c-1.1 0-2 .9-2 2v14c0 1.1.9 2 2 2h14c1.1 0 2-.9 2-2V5c0-1.1-.9-2-2-2zM9 17H7v-7h2v7zm4 0h-2V7h2v10zm4 0h-2v-4h2v4z\"/>\n",
              "    </g>\n",
              "</svg>\n",
              "      </button>\n",
              "    </div>\n",
              "\n",
              "<style>\n",
              "  .colab-df-quickchart {\n",
              "    background-color: #E8F0FE;\n",
              "    border: none;\n",
              "    border-radius: 50%;\n",
              "    cursor: pointer;\n",
              "    display: none;\n",
              "    fill: #1967D2;\n",
              "    height: 32px;\n",
              "    padding: 0 0 0 0;\n",
              "    width: 32px;\n",
              "  }\n",
              "\n",
              "  .colab-df-quickchart:hover {\n",
              "    background-color: #E2EBFA;\n",
              "    box-shadow: 0px 1px 2px rgba(60, 64, 67, 0.3), 0px 1px 3px 1px rgba(60, 64, 67, 0.15);\n",
              "    fill: #174EA6;\n",
              "  }\n",
              "\n",
              "  [theme=dark] .colab-df-quickchart {\n",
              "    background-color: #3B4455;\n",
              "    fill: #D2E3FC;\n",
              "  }\n",
              "\n",
              "  [theme=dark] .colab-df-quickchart:hover {\n",
              "    background-color: #434B5C;\n",
              "    box-shadow: 0px 1px 3px 1px rgba(0, 0, 0, 0.15);\n",
              "    filter: drop-shadow(0px 1px 2px rgba(0, 0, 0, 0.3));\n",
              "    fill: #FFFFFF;\n",
              "  }\n",
              "</style>\n",
              "\n",
              "    <script>\n",
              "      async function quickchart(key) {\n",
              "        const containerElement = document.querySelector('#' + key);\n",
              "        const charts = await google.colab.kernel.invokeFunction(\n",
              "            'suggestCharts', [key], {});\n",
              "      }\n",
              "    </script>\n",
              "\n",
              "      <script>\n",
              "\n",
              "function displayQuickchartButton(domScope) {\n",
              "  let quickchartButtonEl =\n",
              "    domScope.querySelector('#df-8e42f2a2-0cb4-4c22-9199-66f0dde40e02 button.colab-df-quickchart');\n",
              "  quickchartButtonEl.style.display =\n",
              "    google.colab.kernel.accessAllowed ? 'block' : 'none';\n",
              "}\n",
              "\n",
              "        displayQuickchartButton(document);\n",
              "      </script>\n",
              "      <style>\n",
              "    .colab-df-container {\n",
              "      display:flex;\n",
              "      flex-wrap:wrap;\n",
              "      gap: 12px;\n",
              "    }\n",
              "\n",
              "    .colab-df-convert {\n",
              "      background-color: #E8F0FE;\n",
              "      border: none;\n",
              "      border-radius: 50%;\n",
              "      cursor: pointer;\n",
              "      display: none;\n",
              "      fill: #1967D2;\n",
              "      height: 32px;\n",
              "      padding: 0 0 0 0;\n",
              "      width: 32px;\n",
              "    }\n",
              "\n",
              "    .colab-df-convert:hover {\n",
              "      background-color: #E2EBFA;\n",
              "      box-shadow: 0px 1px 2px rgba(60, 64, 67, 0.3), 0px 1px 3px 1px rgba(60, 64, 67, 0.15);\n",
              "      fill: #174EA6;\n",
              "    }\n",
              "\n",
              "    [theme=dark] .colab-df-convert {\n",
              "      background-color: #3B4455;\n",
              "      fill: #D2E3FC;\n",
              "    }\n",
              "\n",
              "    [theme=dark] .colab-df-convert:hover {\n",
              "      background-color: #434B5C;\n",
              "      box-shadow: 0px 1px 3px 1px rgba(0, 0, 0, 0.15);\n",
              "      filter: drop-shadow(0px 1px 2px rgba(0, 0, 0, 0.3));\n",
              "      fill: #FFFFFF;\n",
              "    }\n",
              "  </style>\n",
              "\n",
              "      <script>\n",
              "        const buttonEl =\n",
              "          document.querySelector('#df-5aa0f146-6960-4418-82f1-1d23cc4e5b4d button.colab-df-convert');\n",
              "        buttonEl.style.display =\n",
              "          google.colab.kernel.accessAllowed ? 'block' : 'none';\n",
              "\n",
              "        async function convertToInteractive(key) {\n",
              "          const element = document.querySelector('#df-5aa0f146-6960-4418-82f1-1d23cc4e5b4d');\n",
              "          const dataTable =\n",
              "            await google.colab.kernel.invokeFunction('convertToInteractive',\n",
              "                                                     [key], {});\n",
              "          if (!dataTable) return;\n",
              "\n",
              "          const docLinkHtml = 'Like what you see? Visit the ' +\n",
              "            '<a target=\"_blank\" href=https://colab.research.google.com/notebooks/data_table.ipynb>data table notebook</a>'\n",
              "            + ' to learn more about interactive tables.';\n",
              "          element.innerHTML = '';\n",
              "          dataTable['output_type'] = 'display_data';\n",
              "          await google.colab.output.renderOutput(dataTable, element);\n",
              "          const docLink = document.createElement('div');\n",
              "          docLink.innerHTML = docLinkHtml;\n",
              "          element.appendChild(docLink);\n",
              "        }\n",
              "      </script>\n",
              "    </div>\n",
              "  </div>\n"
            ]
          },
          "metadata": {},
          "execution_count": 72
        }
      ],
      "source": [
        "# make a pandas DataFrame from the features extracted using Extraction.ipynb\n",
        "extracted_features_no_header = pd.read_csv(\"https://anti-phish.s3.eu-west-1.amazonaws.com/dataset/extracted/extracted_features_no_header.csv\", index_col=0)\n",
        "\n",
        "# preview the DataFrame\n",
        "extracted_features_no_header"
      ]
    },
    {
      "cell_type": "code",
      "execution_count": 73,
      "id": "mounted-flavor",
      "metadata": {
        "id": "mounted-flavor"
      },
      "outputs": [],
      "source": [
        "# separate predictor and target variables\n",
        "X_test_no_header = extracted_features_no_header.drop('phishing', axis = 1)\n",
        "y_test_no_header = extracted_features_no_header['phishing'].values"
      ]
    },
    {
      "cell_type": "code",
      "execution_count": 74,
      "id": "spiritual-wedding",
      "metadata": {
        "colab": {
          "base_uri": "https://localhost:8080/"
        },
        "id": "spiritual-wedding",
        "outputId": "620a6abb-ca75-48c6-a858-b50b4624c5c0",
        "tags": []
      },
      "outputs": [
        {
          "output_type": "stream",
          "name": "stdout",
          "text": [
            "Naive Bayes generalisable accuracy: 0.10994581366893899\n",
            "kNN generalisable accuracy: 0.1882538017829051\n",
            "SVC generalisable accuracy: 0.8290508652333508\n",
            "Decision Tree generalisable accuracy: 0.34382101031288237\n",
            "Random Forest generalisable accuracy: 0.8383149798986191\n"
          ]
        }
      ],
      "source": [
        "print('Naive Bayes generalisable accuracy:', model_nb.score(X_test_no_header, y_test_no_header))\n",
        "print('kNN generalisable accuracy:', model_knn.score(X_test_no_header, y_test_no_header))\n",
        "print('SVC generalisable accuracy:', model_svc.score(X_test_no_header, y_test_no_header))\n",
        "print('Decision Tree generalisable accuracy:', model_dt.score(X_test_no_header, y_test_no_header))\n",
        "print('Random Forest generalisable accuracy:', model_rf.score(X_test_no_header, y_test_no_header))"
      ]
    },
    {
      "cell_type": "code",
      "source": [],
      "metadata": {
        "id": "4XzDp1n9XNoU"
      },
      "id": "4XzDp1n9XNoU",
      "execution_count": null,
      "outputs": []
    }
  ],
  "metadata": {
    "accelerator": "GPU",
    "citation-manager": {
      "items": {}
    },
    "colab": {
      "provenance": []
    },
    "gpuClass": "standard",
    "kernelspec": {
      "display_name": "Python 3 (ipykernel)",
      "language": "python",
      "name": "python3"
    },
    "language_info": {
      "codemirror_mode": {
        "name": "ipython",
        "version": 3
      },
      "file_extension": ".py",
      "mimetype": "text/x-python",
      "name": "python",
      "nbconvert_exporter": "python",
      "pygments_lexer": "ipython3",
      "version": "3.11.4"
    },
    "varInspector": {
      "cols": {
        "lenName": 16,
        "lenType": 16,
        "lenVar": 40
      },
      "kernels_config": {
        "python": {
          "delete_cmd_postfix": "",
          "delete_cmd_prefix": "del ",
          "library": "var_list.py",
          "varRefreshCmd": "print(var_dic_list())"
        },
        "r": {
          "delete_cmd_postfix": ") ",
          "delete_cmd_prefix": "rm(",
          "library": "var_list.r",
          "varRefreshCmd": "cat(var_dic_list()) "
        }
      },
      "types_to_exclude": [
        "module",
        "function",
        "builtin_function_or_method",
        "instance",
        "_Feature"
      ],
      "window_display": false
    }
  },
  "nbformat": 4,
  "nbformat_minor": 5
}